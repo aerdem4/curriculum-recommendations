{
 "cells": [
  {
   "cell_type": "code",
   "execution_count": 1,
   "id": "611de0d7",
   "metadata": {},
   "outputs": [],
   "source": [
    "import sys, os\n",
    "from tqdm import tqdm\n",
    "import numpy as np\n",
    "import pandas as pd\n",
    "from sklearn.preprocessing import LabelEncoder\n",
    "from sklearn.model_selection import train_test_split\n",
    "from torch.utils.data import Dataset, DataLoader\n",
    "import torch\n",
    "import torch.nn.functional as F\n",
    "import torch.nn as nn\n",
    "import math\n",
    "\n",
    "os.environ[\"TOKENIZERS_PARALLELISM\"] = \"false\"\n",
    "\n",
    "def seed_everything(seed):\n",
    "    os.environ['PYTHONHASHSEED'] = str(seed)\n",
    "    np.random.seed(seed)\n",
    "    torch.manual_seed(seed)\n",
    "    torch.cuda.manual_seed(seed)\n",
    "    torch.backends.cudnn.deterministic = True\n",
    "    torch.backends.cudnn.benchmark = False\n",
    "    \n",
    "seed_everything(0)\n",
    "MAX_LEN = 64"
   ]
  },
  {
   "cell_type": "code",
   "execution_count": 2,
   "id": "9b5061ee",
   "metadata": {},
   "outputs": [],
   "source": [
    "from transformers import AutoConfig, AutoTokenizer, AutoModelForMaskedLM, AutoModel\n",
    "\n",
    "\n",
    "class VecModel(nn.Module):\n",
    "    def __init__(self, model_name, size, has_top=True):\n",
    "        super(VecModel, self).__init__()\n",
    "        conf = AutoConfig.from_pretrained(model_name)\n",
    "        self.backbone = AutoModel.from_config(conf)\n",
    "        \n",
    "        self.has_top = has_top\n",
    "        \n",
    "        if self.has_top:\n",
    "            self.bn = nn.BatchNorm1d(size)\n",
    "            self.top = nn.Linear(size, size)\n",
    "\n",
    "    def forward(self, ids, mask):\n",
    "        out = self.backbone(ids, mask)[0]\n",
    "        out = (out[:, 1:MAX_LEN//2, :]*mask[:, 1:MAX_LEN//2, None]).mean(axis=1)\n",
    "        \n",
    "        if self.has_top:\n",
    "            out = self.top(self.bn(out))\n",
    "        \n",
    "        return F.normalize(out)\n",
    "\n",
    "    def save(self, path):\n",
    "        torch.save(self.state_dict(), path)\n",
    "\n",
    "    def load(self, path):\n",
    "        self.load_state_dict(torch.load(path, map_location='cpu'))"
   ]
  },
  {
   "cell_type": "code",
   "execution_count": 3,
   "id": "9d65f903",
   "metadata": {},
   "outputs": [
    {
     "data": {
      "text/html": [
       "<div>\n",
       "<style scoped>\n",
       "    .dataframe tbody tr th:only-of-type {\n",
       "        vertical-align: middle;\n",
       "    }\n",
       "\n",
       "    .dataframe tbody tr th {\n",
       "        vertical-align: top;\n",
       "    }\n",
       "\n",
       "    .dataframe thead th {\n",
       "        text-align: right;\n",
       "    }\n",
       "</style>\n",
       "<table border=\"1\" class=\"dataframe\">\n",
       "  <thead>\n",
       "    <tr style=\"text-align: right;\">\n",
       "      <th></th>\n",
       "      <th>topic_id</th>\n",
       "      <th>content_ids</th>\n",
       "    </tr>\n",
       "  </thead>\n",
       "  <tbody>\n",
       "    <tr>\n",
       "      <th>0</th>\n",
       "      <td>t_00004da3a1b2</td>\n",
       "      <td>c_1108dd0c7a5d</td>\n",
       "    </tr>\n",
       "    <tr>\n",
       "      <th>1</th>\n",
       "      <td>t_00004da3a1b2</td>\n",
       "      <td>c_376c5a8eb028</td>\n",
       "    </tr>\n",
       "    <tr>\n",
       "      <th>2</th>\n",
       "      <td>t_00004da3a1b2</td>\n",
       "      <td>c_5bc0e1e2cba0</td>\n",
       "    </tr>\n",
       "    <tr>\n",
       "      <th>3</th>\n",
       "      <td>t_00004da3a1b2</td>\n",
       "      <td>c_76231f9d0b5e</td>\n",
       "    </tr>\n",
       "    <tr>\n",
       "      <th>4</th>\n",
       "      <td>t_00068291e9a4</td>\n",
       "      <td>c_639ea2ef9c95</td>\n",
       "    </tr>\n",
       "    <tr>\n",
       "      <th>...</th>\n",
       "      <td>...</td>\n",
       "      <td>...</td>\n",
       "    </tr>\n",
       "    <tr>\n",
       "      <th>279914</th>\n",
       "      <td>t_fff9e5407d13</td>\n",
       "      <td>c_d64037a72376</td>\n",
       "    </tr>\n",
       "    <tr>\n",
       "      <th>279915</th>\n",
       "      <td>t_fffbe1d5d43c</td>\n",
       "      <td>c_46f852a49c08</td>\n",
       "    </tr>\n",
       "    <tr>\n",
       "      <th>279916</th>\n",
       "      <td>t_fffbe1d5d43c</td>\n",
       "      <td>c_6659207b25d5</td>\n",
       "    </tr>\n",
       "    <tr>\n",
       "      <th>279917</th>\n",
       "      <td>t_fffe14f1be1e</td>\n",
       "      <td>c_cece166bad6a</td>\n",
       "    </tr>\n",
       "    <tr>\n",
       "      <th>279918</th>\n",
       "      <td>t_fffe811a6da9</td>\n",
       "      <td>c_92b8fad372ee</td>\n",
       "    </tr>\n",
       "  </tbody>\n",
       "</table>\n",
       "<p>279919 rows × 2 columns</p>\n",
       "</div>"
      ],
      "text/plain": [
       "              topic_id     content_ids\n",
       "0       t_00004da3a1b2  c_1108dd0c7a5d\n",
       "1       t_00004da3a1b2  c_376c5a8eb028\n",
       "2       t_00004da3a1b2  c_5bc0e1e2cba0\n",
       "3       t_00004da3a1b2  c_76231f9d0b5e\n",
       "4       t_00068291e9a4  c_639ea2ef9c95\n",
       "...                ...             ...\n",
       "279914  t_fff9e5407d13  c_d64037a72376\n",
       "279915  t_fffbe1d5d43c  c_46f852a49c08\n",
       "279916  t_fffbe1d5d43c  c_6659207b25d5\n",
       "279917  t_fffe14f1be1e  c_cece166bad6a\n",
       "279918  t_fffe811a6da9  c_92b8fad372ee\n",
       "\n",
       "[279919 rows x 2 columns]"
      ]
     },
     "execution_count": 3,
     "metadata": {},
     "output_type": "execute_result"
    }
   ],
   "source": [
    "corr_df = pd.read_csv(\"data/correlations.csv\")\n",
    "\n",
    "corr_df[\"content_ids\"] = corr_df[\"content_ids\"].apply(lambda x: x.split())\n",
    "\n",
    "corr_df = corr_df.explode('content_ids').reset_index(drop=True)\n",
    "corr_df"
   ]
  },
  {
   "cell_type": "code",
   "execution_count": 4,
   "id": "70e52483",
   "metadata": {},
   "outputs": [
    {
     "name": "stdout",
     "output_type": "stream",
     "text": [
      "(61517, 9)\n",
      "(61517, 10)\n",
      "(61517, 12)\n",
      "(61517, 14)\n"
     ]
    },
    {
     "data": {
      "text/html": [
       "<div>\n",
       "<style scoped>\n",
       "    .dataframe tbody tr th:only-of-type {\n",
       "        vertical-align: middle;\n",
       "    }\n",
       "\n",
       "    .dataframe tbody tr th {\n",
       "        vertical-align: top;\n",
       "    }\n",
       "\n",
       "    .dataframe thead th {\n",
       "        text-align: right;\n",
       "    }\n",
       "</style>\n",
       "<table border=\"1\" class=\"dataframe\">\n",
       "  <thead>\n",
       "    <tr style=\"text-align: right;\">\n",
       "      <th></th>\n",
       "      <th>id</th>\n",
       "      <th>title</th>\n",
       "      <th>description</th>\n",
       "      <th>channel</th>\n",
       "      <th>category</th>\n",
       "      <th>level</th>\n",
       "      <th>language</th>\n",
       "      <th>parent</th>\n",
       "      <th>has_content</th>\n",
       "      <th>parent_title</th>\n",
       "      <th>grandpa</th>\n",
       "      <th>grandpa_title</th>\n",
       "      <th>ggrandpa</th>\n",
       "      <th>ggrandpa_title</th>\n",
       "    </tr>\n",
       "  </thead>\n",
       "  <tbody>\n",
       "    <tr>\n",
       "      <th>0</th>\n",
       "      <td>t_00004da3a1b2</td>\n",
       "      <td>Откриването на резисторите</td>\n",
       "      <td>Изследване на материали, които предизвикват на...</td>\n",
       "      <td>000cf7</td>\n",
       "      <td>source</td>\n",
       "      <td>4</td>\n",
       "      <td>bg</td>\n",
       "      <td>t_16e29365b50d</td>\n",
       "      <td>True</td>\n",
       "      <td>Открития и проекти</td>\n",
       "      <td>t_c85886762db7</td>\n",
       "      <td>Физика</td>\n",
       "      <td>t_27a0a3c7ee9a</td>\n",
       "      <td>Наука</td>\n",
       "    </tr>\n",
       "    <tr>\n",
       "      <th>1</th>\n",
       "      <td>t_00068291e9a4</td>\n",
       "      <td>Entradas e saídas de uma função</td>\n",
       "      <td>Entenda um pouco mais sobre funções.</td>\n",
       "      <td>8e286a</td>\n",
       "      <td>source</td>\n",
       "      <td>4</td>\n",
       "      <td>pt</td>\n",
       "      <td>t_d14b6c2a2b70</td>\n",
       "      <td>True</td>\n",
       "      <td>Álgebra: funções</td>\n",
       "      <td>t_461c9a8dd863</td>\n",
       "      <td>9º Ano</td>\n",
       "      <td>t_a6420bcff569</td>\n",
       "      <td>Matemática por ano (Alinhada à BNCC)</td>\n",
       "    </tr>\n",
       "    <tr>\n",
       "      <th>2</th>\n",
       "      <td>t_00069b63a70a</td>\n",
       "      <td>Transcripts</td>\n",
       "      <td>NaN</td>\n",
       "      <td>6e3ba4</td>\n",
       "      <td>source</td>\n",
       "      <td>3</td>\n",
       "      <td>en</td>\n",
       "      <td>t_4054df11a74e</td>\n",
       "      <td>True</td>\n",
       "      <td>Flow Charts: Logical Thinking?</td>\n",
       "      <td>t_acbbd893e6af</td>\n",
       "      <td>Engineering</td>\n",
       "      <td>t_9c5f09334d83</td>\n",
       "      <td>MIT Blossoms</td>\n",
       "    </tr>\n",
       "    <tr>\n",
       "      <th>3</th>\n",
       "      <td>t_0006d41a73a8</td>\n",
       "      <td>Графики на експоненциални функции (Алгебра 2 н...</td>\n",
       "      <td>Научи повече за графиките на сложните показате...</td>\n",
       "      <td>000cf7</td>\n",
       "      <td>source</td>\n",
       "      <td>4</td>\n",
       "      <td>bg</td>\n",
       "      <td>t_e2452e21d252</td>\n",
       "      <td>True</td>\n",
       "      <td>Показателни и логаритмични функции</td>\n",
       "      <td>t_5f4cc8e02423</td>\n",
       "      <td>Алгебра (цялото съдържание)</td>\n",
       "      <td>t_afd8db5e4f44</td>\n",
       "      <td>Математика</td>\n",
       "    </tr>\n",
       "    <tr>\n",
       "      <th>4</th>\n",
       "      <td>t_0008768bdee6</td>\n",
       "      <td>100 સુધીનો સરવાળો</td>\n",
       "      <td>37 અને 49 જેવી બે-અંકની સંખ્યાઓ ઉમેરતા શીખો.</td>\n",
       "      <td>5223e0</td>\n",
       "      <td>supplemental</td>\n",
       "      <td>4</td>\n",
       "      <td>gu</td>\n",
       "      <td>t_0da7a331d666</td>\n",
       "      <td>True</td>\n",
       "      <td>100 સુધીના સરવાળા અને બાદબાકી</td>\n",
       "      <td>t_d20fc01fdf38</td>\n",
       "      <td>પ્રારંભિક ગણિત</td>\n",
       "      <td>t_38bca5075c51</td>\n",
       "      <td>ધોરણ ૩</td>\n",
       "    </tr>\n",
       "  </tbody>\n",
       "</table>\n",
       "</div>"
      ],
      "text/plain": [
       "               id                                              title  \\\n",
       "0  t_00004da3a1b2                         Откриването на резисторите   \n",
       "1  t_00068291e9a4                    Entradas e saídas de uma função   \n",
       "2  t_00069b63a70a                                        Transcripts   \n",
       "3  t_0006d41a73a8  Графики на експоненциални функции (Алгебра 2 н...   \n",
       "4  t_0008768bdee6                                  100 સુધીનો સરવાળો   \n",
       "\n",
       "                                         description channel      category  \\\n",
       "0  Изследване на материали, които предизвикват на...  000cf7        source   \n",
       "1               Entenda um pouco mais sobre funções.  8e286a        source   \n",
       "2                                                NaN  6e3ba4        source   \n",
       "3  Научи повече за графиките на сложните показате...  000cf7        source   \n",
       "4       37 અને 49 જેવી બે-અંકની સંખ્યાઓ ઉમેરતા શીખો.  5223e0  supplemental   \n",
       "\n",
       "   level language          parent  has_content  \\\n",
       "0      4       bg  t_16e29365b50d         True   \n",
       "1      4       pt  t_d14b6c2a2b70         True   \n",
       "2      3       en  t_4054df11a74e         True   \n",
       "3      4       bg  t_e2452e21d252         True   \n",
       "4      4       gu  t_0da7a331d666         True   \n",
       "\n",
       "                         parent_title         grandpa  \\\n",
       "0                  Открития и проекти  t_c85886762db7   \n",
       "1                    Álgebra: funções  t_461c9a8dd863   \n",
       "2      Flow Charts: Logical Thinking?  t_acbbd893e6af   \n",
       "3  Показателни и логаритмични функции  t_5f4cc8e02423   \n",
       "4       100 સુધીના સરવાળા અને બાદબાકી  t_d20fc01fdf38   \n",
       "\n",
       "                 grandpa_title        ggrandpa  \\\n",
       "0                       Физика  t_27a0a3c7ee9a   \n",
       "1                       9º Ano  t_a6420bcff569   \n",
       "2                  Engineering  t_9c5f09334d83   \n",
       "3  Алгебра (цялото съдържание)  t_afd8db5e4f44   \n",
       "4               પ્રારંભિક ગણિત  t_38bca5075c51   \n",
       "\n",
       "                         ggrandpa_title  \n",
       "0                                 Наука  \n",
       "1  Matemática por ano (Alinhada à BNCC)  \n",
       "2                          MIT Blossoms  \n",
       "3                            Математика  \n",
       "4                                ધોરણ ૩  "
      ]
     },
     "execution_count": 4,
     "metadata": {},
     "output_type": "execute_result"
    }
   ],
   "source": [
    "topic_df = pd.read_csv(\"data/topics.csv\")\n",
    "topic_df[\"title\"] = topic_df[\"title\"].fillna(\"\")\n",
    "\n",
    "title_map = topic_df.set_index(\"id\")[\"title\"].to_dict()\n",
    "parent_map = topic_df.set_index(\"id\")[\"parent\"].to_dict()\n",
    "\n",
    "topic_df = topic_df[topic_df[\"has_content\"]].reset_index(drop=True)\n",
    "print(topic_df.shape)\n",
    "\n",
    "topic_df[\"parent_title\"] = topic_df[\"parent\"].apply(lambda x: title_map.get(x, \"\"))\n",
    "print(topic_df.shape)\n",
    "\n",
    "topic_df[\"grandpa\"] = topic_df[\"parent\"].apply(lambda x: parent_map.get(x))\n",
    "topic_df[\"grandpa_title\"] = topic_df[\"grandpa\"].apply(lambda x: title_map.get(x, \"\"))\n",
    "print(topic_df.shape)\n",
    "\n",
    "topic_df[\"ggrandpa\"] = topic_df[\"grandpa\"].apply(lambda x: parent_map.get(x))\n",
    "topic_df[\"ggrandpa_title\"] = topic_df[\"ggrandpa\"].apply(lambda x: title_map.get(x, \"\"))\n",
    "print(topic_df.shape)\n",
    "\n",
    "topic_df.head()"
   ]
  },
  {
   "cell_type": "code",
   "execution_count": 5,
   "id": "7d560d0a",
   "metadata": {},
   "outputs": [
    {
     "data": {
      "text/plain": [
       "0    20506\n",
       "1    20506\n",
       "2    20505\n",
       "Name: fold, dtype: int64"
      ]
     },
     "execution_count": 5,
     "metadata": {},
     "output_type": "execute_result"
    }
   ],
   "source": [
    "from sklearn.model_selection import KFold\n",
    "\n",
    "\n",
    "N_FOLDS = 3\n",
    "\n",
    "splits = KFold(N_FOLDS, shuffle=True, random_state=0).split(topic_df, topic_df[\"has_content\"])\n",
    "\n",
    "topic_df[\"fold\"] = 0\n",
    "\n",
    "for f, (train_ind, val_ind) in enumerate(splits):\n",
    "    topic_df.loc[val_ind, \"fold\"] = f\n",
    "\n",
    "topic_df[\"fold\"].value_counts()"
   ]
  },
  {
   "cell_type": "code",
   "execution_count": 6,
   "id": "5f2a048f",
   "metadata": {},
   "outputs": [
    {
     "data": {
      "text/plain": [
       "1    53269\n",
       "0     8248\n",
       "Name: fold, dtype: int64"
      ]
     },
     "execution_count": 6,
     "metadata": {},
     "output_type": "execute_result"
    }
   ],
   "source": [
    "topic_df.loc[(topic_df[\"category\"] == \"source\") | (topic_df[\"fold\"] > 0), \"fold\"] = 1\n",
    "topic_df[\"fold\"].value_counts()"
   ]
  },
  {
   "cell_type": "code",
   "execution_count": 7,
   "id": "175a86b8",
   "metadata": {},
   "outputs": [
    {
     "data": {
      "text/plain": [
       "41024"
      ]
     },
     "execution_count": 7,
     "metadata": {},
     "output_type": "execute_result"
    }
   ],
   "source": [
    "le_topic = LabelEncoder()\n",
    "topic_df[\"t\"] = topic_df[\"title\"].fillna(\"\") + \" | \" + topic_df[\"description\"].fillna(\"\")\n",
    "topic_df[\"label\"] = le_topic.fit_transform(topic_df[\"t\"])\n",
    "\n",
    "len(le_topic.classes_)"
   ]
  },
  {
   "cell_type": "code",
   "execution_count": 8,
   "id": "1fd28ef2",
   "metadata": {},
   "outputs": [
    {
     "name": "stdout",
     "output_type": "stream",
     "text": [
      "(154047, 9)\n"
     ]
    },
    {
     "data": {
      "text/html": [
       "<div>\n",
       "<style scoped>\n",
       "    .dataframe tbody tr th:only-of-type {\n",
       "        vertical-align: middle;\n",
       "    }\n",
       "\n",
       "    .dataframe tbody tr th {\n",
       "        vertical-align: top;\n",
       "    }\n",
       "\n",
       "    .dataframe thead th {\n",
       "        text-align: right;\n",
       "    }\n",
       "</style>\n",
       "<table border=\"1\" class=\"dataframe\">\n",
       "  <thead>\n",
       "    <tr style=\"text-align: right;\">\n",
       "      <th></th>\n",
       "      <th>id</th>\n",
       "      <th>title</th>\n",
       "      <th>description</th>\n",
       "      <th>kind</th>\n",
       "      <th>text</th>\n",
       "      <th>language</th>\n",
       "      <th>copyright_holder</th>\n",
       "      <th>license</th>\n",
       "      <th>t</th>\n",
       "    </tr>\n",
       "  </thead>\n",
       "  <tbody>\n",
       "    <tr>\n",
       "      <th>0</th>\n",
       "      <td>c_00002381196d</td>\n",
       "      <td>Sumar números de varios dígitos: 48,029+233,930</td>\n",
       "      <td>Suma 48,029+233,930 mediante el algoritmo está...</td>\n",
       "      <td>video</td>\n",
       "      <td>NaN</td>\n",
       "      <td>es</td>\n",
       "      <td>NaN</td>\n",
       "      <td>NaN</td>\n",
       "      <td>Sumar números de varios dígitos: 48,029+233,93...</td>\n",
       "    </tr>\n",
       "    <tr>\n",
       "      <th>1</th>\n",
       "      <td>c_000087304a9e</td>\n",
       "      <td>Trovare i fattori di un numero</td>\n",
       "      <td>Sal trova i fattori di 120.\\n\\n</td>\n",
       "      <td>video</td>\n",
       "      <td>NaN</td>\n",
       "      <td>it</td>\n",
       "      <td>NaN</td>\n",
       "      <td>NaN</td>\n",
       "      <td>Trovare i fattori di un numero | video | Sal t...</td>\n",
       "    </tr>\n",
       "    <tr>\n",
       "      <th>2</th>\n",
       "      <td>c_0000ad142ddb</td>\n",
       "      <td>Sumar curvas de demanda</td>\n",
       "      <td>Cómo añadir curvas de demanda\\n\\n</td>\n",
       "      <td>video</td>\n",
       "      <td>NaN</td>\n",
       "      <td>es</td>\n",
       "      <td>NaN</td>\n",
       "      <td>NaN</td>\n",
       "      <td>Sumar curvas de demanda | video | Cómo añadir ...</td>\n",
       "    </tr>\n",
       "    <tr>\n",
       "      <th>3</th>\n",
       "      <td>c_0000c03adc8d</td>\n",
       "      <td>Nado de aproximação</td>\n",
       "      <td>Neste vídeo você vai aprender o nado de aproxi...</td>\n",
       "      <td>document</td>\n",
       "      <td>\\nNado de aproximação\\nSaber nadar nas ondas ...</td>\n",
       "      <td>pt</td>\n",
       "      <td>Sikana Education</td>\n",
       "      <td>CC BY-NC-ND</td>\n",
       "      <td>Nado de aproximação | document | Neste vídeo v...</td>\n",
       "    </tr>\n",
       "    <tr>\n",
       "      <th>4</th>\n",
       "      <td>c_00016694ea2a</td>\n",
       "      <td>geometry-m3-topic-a-overview.pdf</td>\n",
       "      <td>Estándares Comunes del Estado de Nueva York\\n\\...</td>\n",
       "      <td>document</td>\n",
       "      <td>Estándares Comunes del Estado de Nueva York\\n\\...</td>\n",
       "      <td>es</td>\n",
       "      <td>Engage NY</td>\n",
       "      <td>CC BY-NC-SA</td>\n",
       "      <td>geometry-m3-topic-a-overview.pdf | document | ...</td>\n",
       "    </tr>\n",
       "  </tbody>\n",
       "</table>\n",
       "</div>"
      ],
      "text/plain": [
       "               id                                             title  \\\n",
       "0  c_00002381196d  Sumar números de varios dígitos: 48,029+233,930    \n",
       "1  c_000087304a9e                    Trovare i fattori di un numero   \n",
       "2  c_0000ad142ddb                           Sumar curvas de demanda   \n",
       "3  c_0000c03adc8d                               Nado de aproximação   \n",
       "4  c_00016694ea2a                  geometry-m3-topic-a-overview.pdf   \n",
       "\n",
       "                                         description      kind  \\\n",
       "0  Suma 48,029+233,930 mediante el algoritmo está...     video   \n",
       "1                    Sal trova i fattori di 120.\\n\\n     video   \n",
       "2                  Cómo añadir curvas de demanda\\n\\n     video   \n",
       "3  Neste vídeo você vai aprender o nado de aproxi...  document   \n",
       "4  Estándares Comunes del Estado de Nueva York\\n\\...  document   \n",
       "\n",
       "                                                text language  \\\n",
       "0                                                NaN       es   \n",
       "1                                                NaN       it   \n",
       "2                                                NaN       es   \n",
       "3  \\nNado de aproximação\\nSaber nadar nas ondas ...       pt   \n",
       "4  Estándares Comunes del Estado de Nueva York\\n\\...       es   \n",
       "\n",
       "   copyright_holder      license  \\\n",
       "0               NaN          NaN   \n",
       "1               NaN          NaN   \n",
       "2               NaN          NaN   \n",
       "3  Sikana Education  CC BY-NC-ND   \n",
       "4         Engage NY  CC BY-NC-SA   \n",
       "\n",
       "                                                   t  \n",
       "0  Sumar números de varios dígitos: 48,029+233,93...  \n",
       "1  Trovare i fattori di un numero | video | Sal t...  \n",
       "2  Sumar curvas de demanda | video | Cómo añadir ...  \n",
       "3  Nado de aproximação | document | Neste vídeo v...  \n",
       "4  geometry-m3-topic-a-overview.pdf | document | ...  "
      ]
     },
     "execution_count": 8,
     "metadata": {},
     "output_type": "execute_result"
    }
   ],
   "source": [
    "content_df = pd.read_csv(\"data/content.csv\")\n",
    "content_df.loc[content_df[\"title\"] == content_df[\"description\"], \"description\"] = None\n",
    "content_df[\"description\"].fillna(content_df[\"text\"].fillna(\"\").apply(lambda x: x[:256]), inplace=True)\n",
    "content_df[\"t\"] = content_df[\"title\"].fillna(\"\") + \" | \" + content_df[\"kind\"].fillna(\"\") + \" | \" + content_df[\"description\"].fillna(\"\")\n",
    "\n",
    "print(content_df.shape)\n",
    "content_df.head()"
   ]
  },
  {
   "cell_type": "code",
   "execution_count": 9,
   "id": "6dddd282",
   "metadata": {},
   "outputs": [
    {
     "data": {
      "text/plain": [
       "(0.9733569582391859, 0.9165319675164073)"
      ]
     },
     "execution_count": 9,
     "metadata": {},
     "output_type": "execute_result"
    }
   ],
   "source": [
    "def extract_number(x, is_subtopic=False):\n",
    "    chapter, rest = x.split(\":\", 1)\n",
    "    \n",
    "    if is_subtopic:\n",
    "        chapter = chapter.split(\".\", 1)[0]\n",
    "        x = f\"{chapter}:{rest}\"\n",
    "    chapter = int(chapter)\n",
    "\n",
    "    return chapter, x\n",
    "\n",
    "\n",
    "def extract_chapters(df, is_subtopic):\n",
    "    titles = df[\"title\"].fillna(\"\").values\n",
    "    \n",
    "    chapters = np.zeros(len(titles))\n",
    "    new_titles = np.array(titles)\n",
    "    \n",
    "    for i, title in enumerate(titles):\n",
    "        try:\n",
    "            chapters[i], new_titles[i] = extract_number(title, is_subtopic)\n",
    "        except:\n",
    "            pass\n",
    "        \n",
    "    df[\"chapter\"], df[\"title\"] = chapters, new_titles\n",
    "    df[\"chapter\"] = df[\"chapter\"].astype(int)\n",
    "    \n",
    "    df.loc[df[\"chapter\"] == 0, \"chapter\"] = None\n",
    "    return df\n",
    "    \n",
    "topic_df = extract_chapters(topic_df, False)\n",
    "content_df = extract_chapters(content_df, True)\n",
    "\n",
    "topic_df[\"chapter\"].isnull().mean(), content_df[\"chapter\"].isnull().mean()"
   ]
  },
  {
   "cell_type": "code",
   "execution_count": 10,
   "id": "08a09a37",
   "metadata": {},
   "outputs": [
    {
     "data": {
      "text/plain": [
       "((53269, 18), (8248, 18))"
      ]
     },
     "execution_count": 10,
     "metadata": {},
     "output_type": "execute_result"
    }
   ],
   "source": [
    "TEST_FOLD = 0\n",
    "\n",
    "topic_df[\"t\"] = topic_df[\"title\"] + \" @ \" + topic_df[\"parent_title\"] + \" @ \" + topic_df[\"grandpa_title\"] + \" @ \" + topic_df[\"ggrandpa_title\"] + \" | \" + topic_df[\"description\"].fillna(\"\")\n",
    "\n",
    "topic_df_test = topic_df[topic_df[\"fold\"] == TEST_FOLD].reset_index(drop=True)\n",
    "topic_df_train = topic_df[topic_df[\"fold\"] != TEST_FOLD].reset_index(drop=True)\n",
    "\n",
    "topic_df_train.shape, topic_df_test.shape"
   ]
  },
  {
   "cell_type": "code",
   "execution_count": 11,
   "id": "3fe9791a",
   "metadata": {},
   "outputs": [
    {
     "data": {
      "text/plain": [
       "(141107, 2)"
      ]
     },
     "execution_count": 11,
     "metadata": {},
     "output_type": "execute_result"
    }
   ],
   "source": [
    "train_contents = corr_df.merge(topic_df_train[[\"id\"]], left_on=\"topic_id\", right_on=\"id\")[[\"content_ids\"]].drop_duplicates()\n",
    "train_contents.rename(columns={\"content_ids\": \"id\"}, inplace=True)\n",
    "train_contents[\"is_train\"] = True\n",
    "train_contents.shape"
   ]
  },
  {
   "cell_type": "code",
   "execution_count": 12,
   "id": "e14aa955",
   "metadata": {},
   "outputs": [
    {
     "data": {
      "text/plain": [
       "0.9159996624406836"
      ]
     },
     "execution_count": 12,
     "metadata": {},
     "output_type": "execute_result"
    }
   ],
   "source": [
    "content_df = content_df.merge(train_contents, on=\"id\", how=\"left\")\n",
    "content_df[\"is_train\"].fillna(False, inplace=True)\n",
    "content_df[\"is_train\"].mean()"
   ]
  },
  {
   "cell_type": "code",
   "execution_count": 13,
   "id": "87570f15",
   "metadata": {},
   "outputs": [
    {
     "data": {
      "text/html": [
       "<div>\n",
       "<style scoped>\n",
       "    .dataframe tbody tr th:only-of-type {\n",
       "        vertical-align: middle;\n",
       "    }\n",
       "\n",
       "    .dataframe tbody tr th {\n",
       "        vertical-align: top;\n",
       "    }\n",
       "\n",
       "    .dataframe thead th {\n",
       "        text-align: right;\n",
       "    }\n",
       "</style>\n",
       "<table border=\"1\" class=\"dataframe\">\n",
       "  <thead>\n",
       "    <tr style=\"text-align: right;\">\n",
       "      <th></th>\n",
       "      <th>id</th>\n",
       "      <th>label</th>\n",
       "    </tr>\n",
       "  </thead>\n",
       "  <tbody>\n",
       "    <tr>\n",
       "      <th>0</th>\n",
       "      <td>c_00002381196d</td>\n",
       "      <td>[27817, 27750]</td>\n",
       "    </tr>\n",
       "    <tr>\n",
       "      <th>1</th>\n",
       "      <td>c_000087304a9e</td>\n",
       "      <td>[13283, 13284]</td>\n",
       "    </tr>\n",
       "    <tr>\n",
       "      <th>2</th>\n",
       "      <td>c_0000ad142ddb</td>\n",
       "      <td>[11785]</td>\n",
       "    </tr>\n",
       "    <tr>\n",
       "      <th>3</th>\n",
       "      <td>c_0000c03adc8d</td>\n",
       "      <td>[23664]</td>\n",
       "    </tr>\n",
       "    <tr>\n",
       "      <th>4</th>\n",
       "      <td>c_00016694ea2a</td>\n",
       "      <td>[21301, 32510]</td>\n",
       "    </tr>\n",
       "    <tr>\n",
       "      <th>...</th>\n",
       "      <td>...</td>\n",
       "      <td>...</td>\n",
       "    </tr>\n",
       "    <tr>\n",
       "      <th>154042</th>\n",
       "      <td>c_fffcbdd4de8b</td>\n",
       "      <td>[2312]</td>\n",
       "    </tr>\n",
       "    <tr>\n",
       "      <th>154043</th>\n",
       "      <td>c_fffe15a2d069</td>\n",
       "      <td>[27466, 27467, 16294]</td>\n",
       "    </tr>\n",
       "    <tr>\n",
       "      <th>154044</th>\n",
       "      <td>c_fffed7b0d13a</td>\n",
       "      <td>[22032, 22033, 22034]</td>\n",
       "    </tr>\n",
       "    <tr>\n",
       "      <th>154045</th>\n",
       "      <td>c_ffff04ba7ac7</td>\n",
       "      <td>[3455]</td>\n",
       "    </tr>\n",
       "    <tr>\n",
       "      <th>154046</th>\n",
       "      <td>c_ffffe5254266</td>\n",
       "      <td>[10100]</td>\n",
       "    </tr>\n",
       "  </tbody>\n",
       "</table>\n",
       "<p>154047 rows × 2 columns</p>\n",
       "</div>"
      ],
      "text/plain": [
       "                    id                  label\n",
       "0       c_00002381196d         [27817, 27750]\n",
       "1       c_000087304a9e         [13283, 13284]\n",
       "2       c_0000ad142ddb                [11785]\n",
       "3       c_0000c03adc8d                [23664]\n",
       "4       c_00016694ea2a         [21301, 32510]\n",
       "...                ...                    ...\n",
       "154042  c_fffcbdd4de8b                 [2312]\n",
       "154043  c_fffe15a2d069  [27466, 27467, 16294]\n",
       "154044  c_fffed7b0d13a  [22032, 22033, 22034]\n",
       "154045  c_ffff04ba7ac7                 [3455]\n",
       "154046  c_ffffe5254266                [10100]\n",
       "\n",
       "[154047 rows x 2 columns]"
      ]
     },
     "execution_count": 13,
     "metadata": {},
     "output_type": "execute_result"
    }
   ],
   "source": [
    "#corr_df[\"label\"] = le_topic.transform(corr_df[\"topic_id\"])\n",
    "corr_df = corr_df.merge(topic_df[[\"id\", \"label\"]].rename(columns={\"id\": \"topic_id\"}), on=\"topic_id\")\n",
    "\n",
    "\n",
    "content_labels = corr_df.groupby(\"content_ids\").agg({\"label\": list}).reset_index()\n",
    "content_labels = content_labels.rename(columns={\"content_ids\": \"id\"})\n",
    "content_labels[\"label\"] = content_labels[\"label\"].apply(lambda x: list(set(x)))\n",
    "\n",
    "topic_df_train[\"label\"] = topic_df_train[\"label\"].apply(lambda x: [x])\n",
    "topic_df_test[\"label\"] = topic_df_test[\"label\"].apply(lambda x: [x])\n",
    "\n",
    "content_labels"
   ]
  },
  {
   "cell_type": "code",
   "execution_count": 14,
   "id": "52c928a4",
   "metadata": {},
   "outputs": [
    {
     "name": "stdout",
     "output_type": "stream",
     "text": [
      "(154047, 11)\n"
     ]
    },
    {
     "data": {
      "text/html": [
       "<div>\n",
       "<style scoped>\n",
       "    .dataframe tbody tr th:only-of-type {\n",
       "        vertical-align: middle;\n",
       "    }\n",
       "\n",
       "    .dataframe tbody tr th {\n",
       "        vertical-align: top;\n",
       "    }\n",
       "\n",
       "    .dataframe thead th {\n",
       "        text-align: right;\n",
       "    }\n",
       "</style>\n",
       "<table border=\"1\" class=\"dataframe\">\n",
       "  <thead>\n",
       "    <tr style=\"text-align: right;\">\n",
       "      <th></th>\n",
       "      <th>id</th>\n",
       "      <th>title</th>\n",
       "      <th>description</th>\n",
       "      <th>kind</th>\n",
       "      <th>text</th>\n",
       "      <th>language</th>\n",
       "      <th>copyright_holder</th>\n",
       "      <th>license</th>\n",
       "      <th>t</th>\n",
       "      <th>chapter</th>\n",
       "      <th>is_train</th>\n",
       "      <th>label</th>\n",
       "    </tr>\n",
       "  </thead>\n",
       "  <tbody>\n",
       "    <tr>\n",
       "      <th>0</th>\n",
       "      <td>c_00002381196d</td>\n",
       "      <td>Sumar números de varios dígitos: 48,029+233,930</td>\n",
       "      <td>Suma 48,029+233,930 mediante el algoritmo está...</td>\n",
       "      <td>video</td>\n",
       "      <td>NaN</td>\n",
       "      <td>es</td>\n",
       "      <td>NaN</td>\n",
       "      <td>NaN</td>\n",
       "      <td>Sumar números de varios dígitos: 48,029+233,93...</td>\n",
       "      <td>NaN</td>\n",
       "      <td>True</td>\n",
       "      <td>[27817, 27750]</td>\n",
       "    </tr>\n",
       "    <tr>\n",
       "      <th>1</th>\n",
       "      <td>c_000087304a9e</td>\n",
       "      <td>Trovare i fattori di un numero</td>\n",
       "      <td>Sal trova i fattori di 120.\\n\\n</td>\n",
       "      <td>video</td>\n",
       "      <td>NaN</td>\n",
       "      <td>it</td>\n",
       "      <td>NaN</td>\n",
       "      <td>NaN</td>\n",
       "      <td>Trovare i fattori di un numero | video | Sal t...</td>\n",
       "      <td>NaN</td>\n",
       "      <td>True</td>\n",
       "      <td>[13283, 13284]</td>\n",
       "    </tr>\n",
       "    <tr>\n",
       "      <th>2</th>\n",
       "      <td>c_0000ad142ddb</td>\n",
       "      <td>Sumar curvas de demanda</td>\n",
       "      <td>Cómo añadir curvas de demanda\\n\\n</td>\n",
       "      <td>video</td>\n",
       "      <td>NaN</td>\n",
       "      <td>es</td>\n",
       "      <td>NaN</td>\n",
       "      <td>NaN</td>\n",
       "      <td>Sumar curvas de demanda | video | Cómo añadir ...</td>\n",
       "      <td>NaN</td>\n",
       "      <td>True</td>\n",
       "      <td>[11785]</td>\n",
       "    </tr>\n",
       "    <tr>\n",
       "      <th>3</th>\n",
       "      <td>c_0000c03adc8d</td>\n",
       "      <td>Nado de aproximação</td>\n",
       "      <td>Neste vídeo você vai aprender o nado de aproxi...</td>\n",
       "      <td>document</td>\n",
       "      <td>\\nNado de aproximação\\nSaber nadar nas ondas ...</td>\n",
       "      <td>pt</td>\n",
       "      <td>Sikana Education</td>\n",
       "      <td>CC BY-NC-ND</td>\n",
       "      <td>Nado de aproximação | document | Neste vídeo v...</td>\n",
       "      <td>NaN</td>\n",
       "      <td>True</td>\n",
       "      <td>[23664]</td>\n",
       "    </tr>\n",
       "    <tr>\n",
       "      <th>4</th>\n",
       "      <td>c_00016694ea2a</td>\n",
       "      <td>geometry-m3-topic-a-overview.pdf</td>\n",
       "      <td>Estándares Comunes del Estado de Nueva York\\n\\...</td>\n",
       "      <td>document</td>\n",
       "      <td>Estándares Comunes del Estado de Nueva York\\n\\...</td>\n",
       "      <td>es</td>\n",
       "      <td>Engage NY</td>\n",
       "      <td>CC BY-NC-SA</td>\n",
       "      <td>geometry-m3-topic-a-overview.pdf | document | ...</td>\n",
       "      <td>NaN</td>\n",
       "      <td>True</td>\n",
       "      <td>[21301, 32510]</td>\n",
       "    </tr>\n",
       "    <tr>\n",
       "      <th>...</th>\n",
       "      <td>...</td>\n",
       "      <td>...</td>\n",
       "      <td>...</td>\n",
       "      <td>...</td>\n",
       "      <td>...</td>\n",
       "      <td>...</td>\n",
       "      <td>...</td>\n",
       "      <td>...</td>\n",
       "      <td>...</td>\n",
       "      <td>...</td>\n",
       "      <td>...</td>\n",
       "      <td>...</td>\n",
       "    </tr>\n",
       "    <tr>\n",
       "      <th>154042</th>\n",
       "      <td>c_fffcbdd4de8b</td>\n",
       "      <td>2: Diffusion</td>\n",
       "      <td>What will eventually happen to these dyes?\\n\\n...</td>\n",
       "      <td>html5</td>\n",
       "      <td>What will eventually happen to these dyes?\\n\\n...</td>\n",
       "      <td>en</td>\n",
       "      <td>CSU and Merlot</td>\n",
       "      <td>CC BY-NC-SA</td>\n",
       "      <td>2. 12: Diffusion | html5 | What will eventuall...</td>\n",
       "      <td>2.0</td>\n",
       "      <td>True</td>\n",
       "      <td>[2312]</td>\n",
       "    </tr>\n",
       "    <tr>\n",
       "      <th>154043</th>\n",
       "      <td>c_fffe15a2d069</td>\n",
       "      <td>Sommare facendo gruppi da 10</td>\n",
       "      <td>Sal somma 5+68 spezzando il 5 in un 2 e un 3.\\n\\n</td>\n",
       "      <td>video</td>\n",
       "      <td>NaN</td>\n",
       "      <td>it</td>\n",
       "      <td>NaN</td>\n",
       "      <td>NaN</td>\n",
       "      <td>Sommare facendo gruppi da 10 | video | Sal som...</td>\n",
       "      <td>NaN</td>\n",
       "      <td>True</td>\n",
       "      <td>[27466, 27467, 16294]</td>\n",
       "    </tr>\n",
       "    <tr>\n",
       "      <th>154044</th>\n",
       "      <td>c_fffed7b0d13a</td>\n",
       "      <td>Introdução à subtração</td>\n",
       "      <td>Sal fala sobre o que significa subtrair. Os ex...</td>\n",
       "      <td>video</td>\n",
       "      <td>NaN</td>\n",
       "      <td>pt</td>\n",
       "      <td>NaN</td>\n",
       "      <td>NaN</td>\n",
       "      <td>Introdução à subtração | video | Sal fala sobr...</td>\n",
       "      <td>NaN</td>\n",
       "      <td>True</td>\n",
       "      <td>[22032, 22033, 22034]</td>\n",
       "    </tr>\n",
       "    <tr>\n",
       "      <th>154045</th>\n",
       "      <td>c_ffff04ba7ac7</td>\n",
       "      <td>SA of a Cone</td>\n",
       "      <td></td>\n",
       "      <td>video</td>\n",
       "      <td>NaN</td>\n",
       "      <td>en</td>\n",
       "      <td>NaN</td>\n",
       "      <td>NaN</td>\n",
       "      <td>SA of a Cone | video |</td>\n",
       "      <td>NaN</td>\n",
       "      <td>True</td>\n",
       "      <td>[3455]</td>\n",
       "    </tr>\n",
       "    <tr>\n",
       "      <th>154046</th>\n",
       "      <td>c_ffffe5254266</td>\n",
       "      <td>The Jats</td>\n",
       "      <td></td>\n",
       "      <td>video</td>\n",
       "      <td>NaN</td>\n",
       "      <td>en</td>\n",
       "      <td>NaN</td>\n",
       "      <td>NaN</td>\n",
       "      <td>The Jats | video |</td>\n",
       "      <td>NaN</td>\n",
       "      <td>True</td>\n",
       "      <td>[10100]</td>\n",
       "    </tr>\n",
       "  </tbody>\n",
       "</table>\n",
       "<p>154047 rows × 12 columns</p>\n",
       "</div>"
      ],
      "text/plain": [
       "                    id                                             title  \\\n",
       "0       c_00002381196d  Sumar números de varios dígitos: 48,029+233,930    \n",
       "1       c_000087304a9e                    Trovare i fattori di un numero   \n",
       "2       c_0000ad142ddb                           Sumar curvas de demanda   \n",
       "3       c_0000c03adc8d                               Nado de aproximação   \n",
       "4       c_00016694ea2a                  geometry-m3-topic-a-overview.pdf   \n",
       "...                ...                                               ...   \n",
       "154042  c_fffcbdd4de8b                                      2: Diffusion   \n",
       "154043  c_fffe15a2d069                      Sommare facendo gruppi da 10   \n",
       "154044  c_fffed7b0d13a                            Introdução à subtração   \n",
       "154045  c_ffff04ba7ac7                                      SA of a Cone   \n",
       "154046  c_ffffe5254266                                          The Jats   \n",
       "\n",
       "                                              description      kind  \\\n",
       "0       Suma 48,029+233,930 mediante el algoritmo está...     video   \n",
       "1                         Sal trova i fattori di 120.\\n\\n     video   \n",
       "2                       Cómo añadir curvas de demanda\\n\\n     video   \n",
       "3       Neste vídeo você vai aprender o nado de aproxi...  document   \n",
       "4       Estándares Comunes del Estado de Nueva York\\n\\...  document   \n",
       "...                                                   ...       ...   \n",
       "154042  What will eventually happen to these dyes?\\n\\n...     html5   \n",
       "154043  Sal somma 5+68 spezzando il 5 in un 2 e un 3.\\n\\n     video   \n",
       "154044  Sal fala sobre o que significa subtrair. Os ex...     video   \n",
       "154045                                                        video   \n",
       "154046                                                        video   \n",
       "\n",
       "                                                     text language  \\\n",
       "0                                                     NaN       es   \n",
       "1                                                     NaN       it   \n",
       "2                                                     NaN       es   \n",
       "3       \\nNado de aproximação\\nSaber nadar nas ondas ...       pt   \n",
       "4       Estándares Comunes del Estado de Nueva York\\n\\...       es   \n",
       "...                                                   ...      ...   \n",
       "154042  What will eventually happen to these dyes?\\n\\n...       en   \n",
       "154043                                                NaN       it   \n",
       "154044                                                NaN       pt   \n",
       "154045                                                NaN       en   \n",
       "154046                                                NaN       en   \n",
       "\n",
       "        copyright_holder      license  \\\n",
       "0                    NaN          NaN   \n",
       "1                    NaN          NaN   \n",
       "2                    NaN          NaN   \n",
       "3       Sikana Education  CC BY-NC-ND   \n",
       "4              Engage NY  CC BY-NC-SA   \n",
       "...                  ...          ...   \n",
       "154042    CSU and Merlot  CC BY-NC-SA   \n",
       "154043               NaN          NaN   \n",
       "154044               NaN          NaN   \n",
       "154045               NaN          NaN   \n",
       "154046               NaN          NaN   \n",
       "\n",
       "                                                        t  chapter  is_train  \\\n",
       "0       Sumar números de varios dígitos: 48,029+233,93...      NaN      True   \n",
       "1       Trovare i fattori di un numero | video | Sal t...      NaN      True   \n",
       "2       Sumar curvas de demanda | video | Cómo añadir ...      NaN      True   \n",
       "3       Nado de aproximação | document | Neste vídeo v...      NaN      True   \n",
       "4       geometry-m3-topic-a-overview.pdf | document | ...      NaN      True   \n",
       "...                                                   ...      ...       ...   \n",
       "154042  2. 12: Diffusion | html5 | What will eventuall...      2.0      True   \n",
       "154043  Sommare facendo gruppi da 10 | video | Sal som...      NaN      True   \n",
       "154044  Introdução à subtração | video | Sal fala sobr...      NaN      True   \n",
       "154045                            SA of a Cone | video |       NaN      True   \n",
       "154046                                The Jats | video |       NaN      True   \n",
       "\n",
       "                        label  \n",
       "0              [27817, 27750]  \n",
       "1              [13283, 13284]  \n",
       "2                     [11785]  \n",
       "3                     [23664]  \n",
       "4              [21301, 32510]  \n",
       "...                       ...  \n",
       "154042                 [2312]  \n",
       "154043  [27466, 27467, 16294]  \n",
       "154044  [22032, 22033, 22034]  \n",
       "154045                 [3455]  \n",
       "154046                [10100]  \n",
       "\n",
       "[154047 rows x 12 columns]"
      ]
     },
     "execution_count": 14,
     "metadata": {},
     "output_type": "execute_result"
    }
   ],
   "source": [
    "print(content_df.shape)\n",
    "\n",
    "content_df = content_df.merge(content_labels, on=\"id\") #, how=\"left\")\n",
    "content_df"
   ]
  },
  {
   "cell_type": "code",
   "execution_count": 15,
   "id": "4908271c",
   "metadata": {},
   "outputs": [],
   "source": [
    "MODEL_NAME = \"xlm-roberta-large\"\n",
    "\n",
    "roberta_tokenizer = AutoTokenizer.from_pretrained(MODEL_NAME)"
   ]
  },
  {
   "cell_type": "code",
   "execution_count": 16,
   "id": "cd222b11",
   "metadata": {},
   "outputs": [],
   "source": [
    "MODEL_NAME = \"bert-base-multilingual-uncased\"\n",
    "\n",
    "bert_tokenizer = AutoTokenizer.from_pretrained(MODEL_NAME)"
   ]
  },
  {
   "cell_type": "code",
   "execution_count": 17,
   "id": "4f84911e",
   "metadata": {},
   "outputs": [],
   "source": [
    "NW = 8\n",
    "BS = 64\n",
    "\n",
    "class LECRDataset(Dataset):\n",
    "    def __init__(self, df, max_len=512):\n",
    "        self.df = df.reset_index(drop=True)\n",
    "        self.max_len = max_len\n",
    "\n",
    "    def __len__(self):\n",
    "        return self.df.shape[0]\n",
    "\n",
    "    def __getitem__(self, index):\n",
    "        row = self.df.iloc[index]\n",
    "        encoding = roberta_tokenizer(str(row.t), padding='max_length', \n",
    "                                  truncation=True, max_length=self.max_len)\n",
    "\n",
    "        encoding = {key: torch.as_tensor(val) for key, val in encoding.items()}\n",
    "\n",
    "        encoding2 = bert_tokenizer(str(row.t), padding='max_length', \n",
    "                              truncation=True, max_length=self.max_len)\n",
    "        encoding2 = {f\"bert_{key}\": torch.as_tensor(val) for key, val in encoding2.items()}\n",
    "        \n",
    "        encoding.update(encoding2)\n",
    "\n",
    "        return encoding\n",
    "    \n",
    "model_w = [0.25, 0.25, 0.50]\n",
    "\n",
    "models = [VecModel(\"bert-base-multilingual-uncased\", 768, has_top=False),\n",
    "          VecModel(\"xlm-roberta-base\", 768, has_top=False), \n",
    "          VecModel(\"xlm-roberta-large\", 1024)]\n",
    "for model in models:\n",
    "    model.cuda()\n",
    "    model.eval()"
   ]
  },
  {
   "cell_type": "code",
   "execution_count": 18,
   "id": "e59400c0",
   "metadata": {},
   "outputs": [],
   "source": [
    "models[0].load(\"models/vec_model_v36bert.pth\")\n",
    "models[1].load(\"models/vec_model_v36.pth\")\n",
    "models[2].load(\"models/vec_model_v35large.pth\")"
   ]
  },
  {
   "cell_type": "code",
   "execution_count": 19,
   "id": "0e0c701b",
   "metadata": {},
   "outputs": [],
   "source": [
    "from sklearn.neighbors import NearestNeighbors\n",
    "\n",
    "\n",
    "def to_vec(models, ds):\n",
    "    val_loader = DataLoader(ds, batch_size=BS, shuffle=False, num_workers=NW,\n",
    "                             pin_memory=False, drop_last=False)\n",
    "\n",
    "    tbar = tqdm(val_loader, file=sys.stdout)\n",
    "\n",
    "    vectors = []\n",
    "\n",
    "    with torch.no_grad():\n",
    "        for idx, data in enumerate(tbar):\n",
    "            ids, mask = data[\"input_ids\"].cuda(), data[\"attention_mask\"].cuda()\n",
    "            bert_ids, bert_mask = data[\"bert_input_ids\"].cuda(), data[\"bert_attention_mask\"].cuda()\n",
    "            \n",
    "            vec_list = [model_w[0]*models[0](bert_ids, bert_mask)]\n",
    "            for i in range(1, 3):\n",
    "                vec_list.append(model_w[i]*models[i](ids, mask))\n",
    "                \n",
    "\n",
    "            vec = torch.cat(vec_list, axis=1)\n",
    "            vectors.append(vec.detach().cpu().numpy())\n",
    "\n",
    "    V = np.concatenate(vectors)\n",
    "    \n",
    "    return V\n",
    "\n",
    "\n",
    "\n",
    "def get_matches(V_topic, V_content, topic_ids, content_ids, n_neighbors=5):\n",
    "    \n",
    "    neighbors_model = NearestNeighbors(n_neighbors=n_neighbors, metric='cosine', n_jobs=-1)\n",
    "    neighbors_model.fit(V_content)\n",
    "    dists, indices = neighbors_model.kneighbors(V_topic)\n",
    "    \n",
    "    res_df = pd.DataFrame({\"topic_id\": np.repeat(topic_ids, n_neighbors),\n",
    "                           'content_id': content_ids[indices.ravel()],\n",
    "                           'vec_dist': dists.ravel()\n",
    "                          })\n",
    "    return res_df\n",
    "\n",
    "\n",
    "def f2(recall, precision):\n",
    "    return 5*precision*recall/(4*precision + recall)\n",
    "\n",
    "def metric(pred_df):\n",
    "    scores = np.zeros(pred_df.shape[0])\n",
    "\n",
    "    for i, (gt, pred) in enumerate(zip(pred_df[\"content_ids\"].values, pred_df[\"pred\"].values)):\n",
    "        hits = 0\n",
    "\n",
    "        gt, pred = gt.split(), pred.split()\n",
    "\n",
    "        for l in gt:\n",
    "            if l in pred:\n",
    "                hits += 1\n",
    "\n",
    "        if hits > 0:           \n",
    "            recall = hits / len(gt)\n",
    "            precision = hits / len(pred)\n",
    "\n",
    "            scores[i] = f2(recall, precision)\n",
    "\n",
    "    return scores.mean()\n",
    "    \n",
    "\n",
    "def evaluate(topic_df, content_df):    \n",
    "    topic_ds = LECRDataset(topic_df, tokenizer, MAX_LEN, aug=False)\n",
    "    content_ds = LECRDataset(content_df, tokenizer, MAX_LEN, aug=False)\n",
    "\n",
    "\n",
    "    V_topic = to_vec(model, topic_ds)\n",
    "    V_content = to_vec(model, content_ds)\n",
    "\n",
    "    res_df = get_matches(V_topic, V_content, topic_df[\"id\"].values, content_df[\"id\"].values)\n",
    "\n",
    "    res_df[\"rank\"] = res_df.groupby(\"topic_id\")[\"vec_dist\"].rank(method=\"first\", ascending=True)\n",
    "\n",
    "    pred_df = res_df.copy() #res_df[(res_df[\"rank\"] == 1) | (res_df[\"vec_dist\"] < 0.1)]\n",
    "    pred_df = pred_df.groupby(\"topic_id\")[\"content_id\"].apply(lambda x: \" \".join(list(x)))\n",
    "    pred_df = pred_df.reset_index().rename(columns={\"content_id\": 'pred'})\n",
    "    pred_df = pred_df.merge(pd.read_csv(\"data/correlations.csv\"), on=\"topic_id\")\n",
    "\n",
    "    return metric(pred_df)"
   ]
  },
  {
   "cell_type": "code",
   "execution_count": 20,
   "id": "e09dc327",
   "metadata": {},
   "outputs": [
    {
     "name": "stdout",
     "output_type": "stream",
     "text": [
      "100%|█████████████████████████████████████████| 129/129 [00:24<00:00,  5.32it/s]\n",
      "100%|███████████████████████████████████████| 2407/2407 [07:31<00:00,  5.33it/s]\n"
     ]
    }
   ],
   "source": [
    "topic_ds = LECRDataset(topic_df_test, MAX_LEN)\n",
    "content_ds = LECRDataset(content_df, MAX_LEN)\n",
    "\n",
    "\n",
    "V_topic = to_vec(models, topic_ds)\n",
    "V_content = to_vec(models, content_ds)"
   ]
  },
  {
   "cell_type": "code",
   "execution_count": 21,
   "id": "4e421798",
   "metadata": {},
   "outputs": [
    {
     "data": {
      "text/plain": [
       "(164960, 3)"
      ]
     },
     "execution_count": 21,
     "metadata": {},
     "output_type": "execute_result"
    }
   ],
   "source": [
    "res_dfs = []\n",
    "\n",
    "for lang in topic_df_test[\"language\"].unique():\n",
    "    topic_ix = np.where(topic_df_test[\"language\"] == lang)[0]\n",
    "    content_ix = np.where(content_df[\"language\"] == lang)[0]\n",
    "    \n",
    "    res_dfs.append(get_matches(V_topic[topic_ix], V_content[content_ix], \n",
    "                               topic_df_test[\"id\"].values[topic_ix], content_df[\"id\"].values[content_ix],\n",
    "                    n_neighbors=20))\n",
    "res_df = pd.concat(res_dfs)\n",
    "res_df.shape"
   ]
  },
  {
   "cell_type": "code",
   "execution_count": 22,
   "id": "0c6cd8a8",
   "metadata": {},
   "outputs": [
    {
     "name": "stdout",
     "output_type": "stream",
     "text": [
      "100%|█████████████████████████████████████████| 833/833 [02:36<00:00,  5.32it/s]\n"
     ]
    }
   ],
   "source": [
    "topic_ds = LECRDataset(topic_df_train, MAX_LEN)\n",
    "\n",
    "V_topic_train = to_vec(models, topic_ds)"
   ]
  },
  {
   "cell_type": "code",
   "execution_count": 23,
   "id": "181bf8a0",
   "metadata": {},
   "outputs": [
    {
     "data": {
      "text/plain": [
       "<AxesSubplot:>"
      ]
     },
     "execution_count": 23,
     "metadata": {},
     "output_type": "execute_result"
    },
    {
     "data": {
      "image/png": "[encoded data removed]",
      "text/plain": [
       "<Figure size 432x288 with 1 Axes>"
      ]
     },
     "metadata": {
      "needs_background": "light"
     },
     "output_type": "display_data"
    }
   ],
   "source": [
    "def get_max_train(df, V):\n",
    "    max_train_scores = np.zeros(df.shape[0])\n",
    "    matches = np.zeros(df.shape[0])\n",
    "\n",
    "    for lang in df[\"language\"].unique():\n",
    "        topic_ix = np.where(topic_df_train[\"language\"] == lang)[0]\n",
    "        ix = np.where(df[\"language\"] == lang)[0]\n",
    "\n",
    "        neighbors_model = NearestNeighbors(n_neighbors=1, metric='cosine', n_jobs=4)\n",
    "        neighbors_model.fit(V_topic_train[topic_ix])\n",
    "        dists, idx = neighbors_model.kneighbors(V[ix])\n",
    "\n",
    "        max_train_scores[ix] = dists.ravel()\n",
    "        matches[ix] = topic_ix[idx.ravel()]  \n",
    "        \n",
    "    return max_train_scores, matches\n",
    "\n",
    "\n",
    "content_max_train_scores, _ = get_max_train(content_df, V_content)\n",
    "    \n",
    "content_df[\"max_train_score\"] = content_max_train_scores\n",
    "content_df[\"max_train_score\"].hist(bins=50)"
   ]
  },
  {
   "cell_type": "code",
   "execution_count": 24,
   "id": "a6f7b184",
   "metadata": {},
   "outputs": [
    {
     "data": {
      "text/plain": [
       "<AxesSubplot:>"
      ]
     },
     "execution_count": 24,
     "metadata": {},
     "output_type": "execute_result"
    },
    {
     "data": {
      "image/png": "[encoded data removed]",
      "text/plain": [
       "<Figure size 432x288 with 1 Axes>"
      ]
     },
     "metadata": {
      "needs_background": "light"
     },
     "output_type": "display_data"
    }
   ],
   "source": [
    "topic_max_train_scores, topic_matches = get_max_train(topic_df_test, V_topic)\n",
    "    \n",
    "topic_df_test[\"max_train_score\"] = topic_max_train_scores\n",
    "topic_df_test[\"matched_topic\"] = topic_df_train[\"id\"].values[topic_matches.astype(int)]\n",
    "\n",
    "topic_df_test[\"max_train_score\"].hist(bins=50)"
   ]
  },
  {
   "cell_type": "code",
   "execution_count": 25,
   "id": "16e991d1",
   "metadata": {},
   "outputs": [
    {
     "data": {
      "text/plain": [
       "(35780, 3)"
      ]
     },
     "execution_count": 25,
     "metadata": {},
     "output_type": "execute_result"
    }
   ],
   "source": [
    "second_degree_match_df = topic_df_test.merge(corr_df, left_on=\"matched_topic\", right_on=\"topic_id\")[[\"id\", \"content_ids\"]]\n",
    "second_degree_match_df[\"second_degree\"] = True\n",
    "second_degree_match_df.rename(columns={\"id\": \"topic_id\", \"content_ids\": \"content_id\"}, inplace=True)\n",
    "second_degree_match_df.shape"
   ]
  },
  {
   "cell_type": "code",
   "execution_count": 26,
   "id": "b869bb41",
   "metadata": {},
   "outputs": [
    {
     "name": "stdout",
     "output_type": "stream",
     "text": [
      "en\n",
      "136622 28053 65939\n",
      "----\n",
      "es\n",
      "81953 11769 30844\n",
      "----\n",
      "gu\n",
      "30561 1809 3677\n",
      "----\n",
      "hi\n",
      "37631 1373 4042\n",
      "----\n",
      "bn\n",
      "23102 1731 2513\n",
      "----\n",
      "fr\n",
      "33965 3034 10682\n",
      "----\n",
      "pt\n",
      "37485 3425 10435\n",
      "----\n",
      "fil\n",
      "4291 224 516\n",
      "----\n",
      "as\n",
      "9677 126 641\n",
      "----\n",
      "sw\n",
      "21455 2082 1447\n",
      "----\n"
     ]
    },
    {
     "data": {
      "text/plain": [
       "(164960, 3)"
      ]
     },
     "execution_count": 26,
     "metadata": {},
     "output_type": "execute_result"
    }
   ],
   "source": [
    "import numpy as np\n",
    "import pandas as pd\n",
    "from sklearn.feature_extraction.text import TfidfVectorizer\n",
    "from sparse_dot_topn import awesome_cossim_topn\n",
    "\n",
    "\n",
    "def get_matches(topic_df, content_df):\n",
    "    tfidf = TfidfVectorizer(analyzer=\"char\", ngram_range=(4, 4), min_df=2)\n",
    "\n",
    "    tfidf.fit(pd.concat([content_df[\"t\"], topic_df[\"t\"]]))\n",
    "    print(len(tfidf.vocabulary_), topic_df.shape[0], content_df.shape[0])\n",
    "    \n",
    "    topic_df = topic_df[topic_df[\"fold\"] == TEST_FOLD].reset_index(drop=True)\n",
    "    \n",
    "    V_topic = tfidf.transform(topic_df[\"title\"] + \" \" + topic_df[\"t\"])\n",
    "    V_content = tfidf.transform(content_df[\"title\"] + \" \" + content_df[\"t\"])\n",
    "\n",
    "    d = awesome_cossim_topn(V_topic, V_content.T, 20, 0.01, use_threads=True, n_jobs=4)\n",
    "\n",
    "    non_zeros = d.nonzero()\n",
    "\n",
    "    name_indices = non_zeros[0]\n",
    "    gt_indices = non_zeros[1]\n",
    "\n",
    "    content_ids = content_df[\"id\"].values\n",
    "    topic_ids = topic_df[\"id\"].values\n",
    "\n",
    "    left_side = np.empty(gt_indices.size, dtype=object)\n",
    "    right_side = np.empty(gt_indices.size, dtype=object)\n",
    "    match_score = np.zeros(gt_indices.size)\n",
    "\n",
    "    for index in range(gt_indices.size):\n",
    "        left_side[index] = topic_ids[name_indices[index]]\n",
    "        right_side[index] = content_ids[gt_indices[index]]\n",
    "        match_score[index] = d.data[index]\n",
    "\n",
    "    res_df = pd.DataFrame({\"topic_id\": left_side,\n",
    "                           'content_id': right_side,\n",
    "                           'match_score': match_score\n",
    "                          })\n",
    "    return res_df\n",
    "\n",
    "\n",
    "res_dfs = []\n",
    "\n",
    "for lang in topic_df[topic_df[\"fold\"] == TEST_FOLD][\"language\"].unique():\n",
    "    print(lang)\n",
    "    content_df_lang = content_df[(content_df[\"language\"] == lang)].reset_index(drop=True)\n",
    "    topic_df_lang = topic_df[(topic_df[\"language\"] == lang)].reset_index(drop=True)\n",
    "    \n",
    "    if content_df_lang.shape[0] > 0:\n",
    "        res_dfs.append(get_matches(topic_df_lang, content_df_lang))\n",
    "        \n",
    "    print(\"----\")\n",
    "    \n",
    "res_df2 = pd.concat(res_dfs)\n",
    "res_df2.shape"
   ]
  },
  {
   "cell_type": "code",
   "execution_count": 27,
   "id": "bcdacf37",
   "metadata": {},
   "outputs": [],
   "source": [
    "corr_df[\"target\"] = 1\n",
    "corr_df.rename(columns={\"content_ids\": \"content_id\"}, inplace=True)"
   ]
  },
  {
   "cell_type": "code",
   "execution_count": 28,
   "id": "5b92a024",
   "metadata": {},
   "outputs": [],
   "source": [
    "topic_df.columns = [f\"topic_{col}\" for col in topic_df.columns]\n",
    "content_df.columns = [f\"content_{col}\" for col in content_df.columns]"
   ]
  },
  {
   "cell_type": "code",
   "execution_count": 29,
   "id": "a8e4a481",
   "metadata": {},
   "outputs": [
    {
     "data": {
      "text/html": [
       "<div>\n",
       "<style scoped>\n",
       "    .dataframe tbody tr th:only-of-type {\n",
       "        vertical-align: middle;\n",
       "    }\n",
       "\n",
       "    .dataframe tbody tr th {\n",
       "        vertical-align: top;\n",
       "    }\n",
       "\n",
       "    .dataframe thead th {\n",
       "        text-align: right;\n",
       "    }\n",
       "</style>\n",
       "<table border=\"1\" class=\"dataframe\">\n",
       "  <thead>\n",
       "    <tr style=\"text-align: right;\">\n",
       "      <th></th>\n",
       "      <th>topic_id</th>\n",
       "      <th>content_id</th>\n",
       "      <th>dup_count</th>\n",
       "    </tr>\n",
       "  </thead>\n",
       "  <tbody>\n",
       "    <tr>\n",
       "      <th>0</th>\n",
       "      <td>t_0016d30772f3</td>\n",
       "      <td>c_061d9f90bb06</td>\n",
       "      <td>2</td>\n",
       "    </tr>\n",
       "    <tr>\n",
       "      <th>1</th>\n",
       "      <td>t_0016d30772f3</td>\n",
       "      <td>c_242ddc729eec</td>\n",
       "      <td>2</td>\n",
       "    </tr>\n",
       "    <tr>\n",
       "      <th>2</th>\n",
       "      <td>t_0016d30772f3</td>\n",
       "      <td>c_61b851222e17</td>\n",
       "      <td>3</td>\n",
       "    </tr>\n",
       "    <tr>\n",
       "      <th>3</th>\n",
       "      <td>t_0016d30772f3</td>\n",
       "      <td>c_b4fa764f5218</td>\n",
       "      <td>1</td>\n",
       "    </tr>\n",
       "    <tr>\n",
       "      <th>4</th>\n",
       "      <td>t_0016d30772f3</td>\n",
       "      <td>c_c25053d6fafd</td>\n",
       "      <td>3</td>\n",
       "    </tr>\n",
       "    <tr>\n",
       "      <th>...</th>\n",
       "      <td>...</td>\n",
       "      <td>...</td>\n",
       "      <td>...</td>\n",
       "    </tr>\n",
       "    <tr>\n",
       "      <th>385495</th>\n",
       "      <td>t_ffa56a59eb42</td>\n",
       "      <td>c_6d9c9523ad59</td>\n",
       "      <td>1</td>\n",
       "    </tr>\n",
       "    <tr>\n",
       "      <th>385496</th>\n",
       "      <td>t_ffba5459a977</td>\n",
       "      <td>c_04a421dba8aa</td>\n",
       "      <td>1</td>\n",
       "    </tr>\n",
       "    <tr>\n",
       "      <th>385497</th>\n",
       "      <td>t_ffba5459a977</td>\n",
       "      <td>c_787a7a2e7217</td>\n",
       "      <td>1</td>\n",
       "    </tr>\n",
       "    <tr>\n",
       "      <th>385498</th>\n",
       "      <td>t_ffba5459a977</td>\n",
       "      <td>c_a46e0ec1377b</td>\n",
       "      <td>1</td>\n",
       "    </tr>\n",
       "    <tr>\n",
       "      <th>385499</th>\n",
       "      <td>t_ffba5459a977</td>\n",
       "      <td>c_a6c82a21c03a</td>\n",
       "      <td>1</td>\n",
       "    </tr>\n",
       "  </tbody>\n",
       "</table>\n",
       "<p>385500 rows × 3 columns</p>\n",
       "</div>"
      ],
      "text/plain": [
       "              topic_id      content_id  dup_count\n",
       "0       t_0016d30772f3  c_061d9f90bb06          2\n",
       "1       t_0016d30772f3  c_242ddc729eec          2\n",
       "2       t_0016d30772f3  c_61b851222e17          3\n",
       "3       t_0016d30772f3  c_b4fa764f5218          1\n",
       "4       t_0016d30772f3  c_c25053d6fafd          3\n",
       "...                ...             ...        ...\n",
       "385495  t_ffa56a59eb42  c_6d9c9523ad59          1\n",
       "385496  t_ffba5459a977  c_04a421dba8aa          1\n",
       "385497  t_ffba5459a977  c_787a7a2e7217          1\n",
       "385498  t_ffba5459a977  c_a46e0ec1377b          1\n",
       "385499  t_ffba5459a977  c_a6c82a21c03a          1\n",
       "\n",
       "[385500 rows x 3 columns]"
      ]
     },
     "execution_count": 29,
     "metadata": {},
     "output_type": "execute_result"
    }
   ],
   "source": [
    "dup_df = []\n",
    "\n",
    "topic_df[\"key\"] = topic_df[\"topic_title\"].fillna(\"\") + \" | \" + topic_df[\"topic_description\"].fillna(\"\")\n",
    "\n",
    "\n",
    "train_df, val_df = topic_df[topic_df[\"topic_fold\"] != TEST_FOLD].reset_index(drop=True), topic_df[topic_df[\"topic_fold\"] == TEST_FOLD].reset_index(drop=True)\n",
    "\n",
    "\n",
    "lookup = train_df.merge(corr_df, on=\"topic_id\").groupby([\"key\", \"content_id\"])[\"topic_channel\"].count().reset_index()\n",
    "lookup.rename(columns={\"topic_channel\": \"dup_count\"}, inplace=True)\n",
    "\n",
    "\n",
    "dup_df.append(val_df[[\"topic_id\", \"key\"]].merge(lookup, on=[\"key\"])[[\"topic_id\", 'content_id', \"dup_count\"]])\n",
    "    \n",
    "dup_df = pd.concat(dup_df).reset_index(drop=True)\n",
    "dup_df"
   ]
  },
  {
   "cell_type": "code",
   "execution_count": 30,
   "id": "e7a203de",
   "metadata": {},
   "outputs": [
    {
     "data": {
      "text/plain": [
       "(659059, 6)"
      ]
     },
     "execution_count": 30,
     "metadata": {},
     "output_type": "execute_result"
    }
   ],
   "source": [
    "res_df = res_df.merge(res_df2, how=\"outer\", on=[\"topic_id\", \"content_id\"])\n",
    "res_df = res_df.merge(dup_df, how=\"outer\", on=[\"topic_id\", \"content_id\"])\n",
    "res_df = res_df.merge(second_degree_match_df, how=\"outer\", on=[\"topic_id\", \"content_id\"])\n",
    "\n",
    "res_df.shape"
   ]
  },
  {
   "cell_type": "code",
   "execution_count": 31,
   "id": "094ff50b",
   "metadata": {},
   "outputs": [
    {
     "data": {
      "text/plain": [
       "(731740, 7)"
      ]
     },
     "execution_count": 31,
     "metadata": {},
     "output_type": "execute_result"
    }
   ],
   "source": [
    "dup_df = []\n",
    "\n",
    "topic_df[\"key\"] = topic_df[\"topic_title\"].fillna(\"\")\n",
    "\n",
    "\n",
    "train_df, val_df = topic_df[topic_df[\"topic_fold\"] != TEST_FOLD].reset_index(drop=True), topic_df[topic_df[\"topic_fold\"] == TEST_FOLD].reset_index(drop=True)\n",
    "\n",
    "\n",
    "lookup = train_df.merge(corr_df, on=\"topic_id\").groupby([\"key\", \"content_id\"])[\"topic_channel\"].count().reset_index()\n",
    "lookup.rename(columns={\"topic_channel\": \"tdup_count\"}, inplace=True)\n",
    "\n",
    "\n",
    "dup_df.append(val_df[[\"topic_id\", \"key\"]].merge(lookup, on=[\"key\"])[[\"topic_id\", 'content_id', \"tdup_count\"]])\n",
    "    \n",
    "dup_df = pd.concat(dup_df).reset_index(drop=True)\n",
    "\n",
    "\n",
    "res_df = res_df.merge(dup_df, how=\"outer\", on=[\"topic_id\", \"content_id\"])\n",
    "res_df.shape"
   ]
  },
  {
   "cell_type": "code",
   "execution_count": 32,
   "id": "ba8e166c",
   "metadata": {},
   "outputs": [
    {
     "data": {
      "text/plain": [
       "(839815, 8)"
      ]
     },
     "execution_count": 32,
     "metadata": {},
     "output_type": "execute_result"
    }
   ],
   "source": [
    "dup_df = []\n",
    "\n",
    "topic_df[\"key\"] = topic_df[\"topic_parent\"].fillna(topic_df[\"topic_id\"])\n",
    "\n",
    "train_df, val_df = topic_df[topic_df[\"topic_fold\"] != TEST_FOLD].reset_index(drop=True), topic_df[topic_df[\"topic_fold\"] == TEST_FOLD].reset_index(drop=True)\n",
    "\n",
    "\n",
    "lookup = train_df.merge(corr_df, on=\"topic_id\").groupby([\"key\", \"content_id\"])[\"topic_channel\"].count().reset_index()\n",
    "lookup.rename(columns={\"topic_channel\": \"pdup_count\"}, inplace=True)\n",
    "\n",
    "\n",
    "dup_df.append(val_df[[\"topic_id\", \"key\"]].merge(lookup, on=[\"key\"])[[\"topic_id\", 'content_id', \"pdup_count\"]])\n",
    "\n",
    "dup_df = pd.concat(dup_df).reset_index(drop=True)\n",
    "\n",
    "\n",
    "res_df = res_df.merge(dup_df, how=\"outer\", on=[\"topic_id\", \"content_id\"])\n",
    "res_df.shape"
   ]
  },
  {
   "cell_type": "code",
   "execution_count": 33,
   "id": "e27a5aca",
   "metadata": {},
   "outputs": [
    {
     "data": {
      "text/plain": [
       "0.8916740483881727"
      ]
     },
     "execution_count": 33,
     "metadata": {},
     "output_type": "execute_result"
    }
   ],
   "source": [
    "def best_case_metric(pred_df):\n",
    "    scores = np.zeros(pred_df.shape[0])\n",
    "\n",
    "    for i, (gt, pred) in enumerate(zip(pred_df[\"content_ids\"].values, pred_df[\"pred\"].values)):\n",
    "        hits = 0\n",
    "\n",
    "        gt, pred = gt.split(), pred.split()\n",
    "\n",
    "        for l in gt:\n",
    "            if l in pred:\n",
    "                hits += 1\n",
    "\n",
    "        if hits > 0:           \n",
    "            recall = hits / len(gt)\n",
    "            precision = 1 #hits / len(pred)\n",
    "\n",
    "            scores[i] = f2(recall, precision)\n",
    "\n",
    "    return scores.mean()\n",
    "\n",
    "\n",
    "pred_df = res_df.groupby(\"topic_id\")[\"content_id\"].apply(lambda x: \" \".join(list(x)))\n",
    "pred_df = pred_df.reset_index().rename(columns={\"content_id\": 'pred'})\n",
    "pred_df = pred_df.merge(pd.read_csv(\"data/correlations.csv\"), on=\"topic_id\")\n",
    "\n",
    "best_case_metric(pred_df)"
   ]
  },
  {
   "cell_type": "code",
   "execution_count": 34,
   "id": "10fbf59a",
   "metadata": {},
   "outputs": [
    {
     "data": {
      "text/plain": [
       "(839815, 38)"
      ]
     },
     "execution_count": 34,
     "metadata": {},
     "output_type": "execute_result"
    }
   ],
   "source": [
    "res_df = res_df.merge(topic_df, on=\"topic_id\", how=\"left\")\n",
    "res_df = res_df.merge(content_df, on=\"content_id\", how=\"left\")\n",
    "\n",
    "res_df.shape"
   ]
  },
  {
   "cell_type": "code",
   "execution_count": 35,
   "id": "0720ca6a",
   "metadata": {},
   "outputs": [
    {
     "data": {
      "text/plain": [
       "(0.031234259926293292, 26231.0)"
      ]
     },
     "execution_count": 35,
     "metadata": {},
     "output_type": "execute_result"
    }
   ],
   "source": [
    "res_df = res_df.merge(corr_df[[\"topic_id\", \"content_id\", \"target\"]], on=[\"topic_id\", \"content_id\"], how=\"left\")\n",
    "res_df[\"target\"].fillna(0, inplace=True)\n",
    "\n",
    "res_df[\"target\"].mean(), res_df[\"target\"].sum()"
   ]
  },
  {
   "cell_type": "code",
   "execution_count": 36,
   "id": "1dce824f",
   "metadata": {},
   "outputs": [],
   "source": [
    "res_df[\"topic_language\"] = res_df[\"topic_language\"].astype(\"category\")\n",
    "res_df[\"topic_category\"] = res_df[\"topic_category\"].astype(\"category\")\n",
    "res_df[\"content_kind\"] = res_df[\"content_kind\"].astype(\"category\")\n",
    "res_df[\"topic_channel\"] = res_df[\"topic_channel\"].astype(\"category\")\n",
    "\n",
    "res_df[\"len_topic_title\"] = res_df[\"topic_title\"].fillna(\"\").apply(len)\n",
    "res_df[\"len_topic_description\"] = res_df[\"topic_description\"].fillna(\"\").apply(len)\n",
    "res_df[\"len_content_title\"] = res_df[\"content_title\"].fillna(\"\").apply(len)\n",
    "res_df[\"len_content_description\"] = res_df[\"content_description\"].fillna(\"\").apply(len)\n",
    "res_df[\"len_content_text\"] = res_df[\"content_text\"].fillna(\"\").apply(len)"
   ]
  },
  {
   "cell_type": "code",
   "execution_count": 37,
   "id": "e7306e51",
   "metadata": {},
   "outputs": [],
   "source": [
    "res_df[\"vec_dist_max\"] = res_df.groupby(\"topic_id\")[\"vec_dist\"].transform(\"max\")\n",
    "res_df[\"vec_dist_min\"] = res_df.groupby(\"topic_id\")[\"vec_dist\"].transform(\"min\")\n",
    "\n",
    "res_df[\"dup_count\"] = res_df[\"dup_count\"].fillna(0)\n",
    "res_df[\"total_count\"] = res_df.groupby(\"topic_id\")[\"content_id\"].transform(\"count\")\n",
    "res_df[\"dup_count_mean\"] = res_df.groupby(\"topic_id\")[\"dup_count\"].transform(\"mean\")\n",
    "\n",
    "res_df[\"tdup_count\"] = res_df[\"tdup_count\"].fillna(0)\n",
    "res_df[\"tdup_count_mean\"] = res_df.groupby(\"topic_id\")[\"tdup_count\"].transform(\"mean\")\n",
    "\n",
    "res_df[\"pdup_count\"] = res_df[\"pdup_count\"].fillna(0)\n",
    "res_df[\"pdup_count_mean\"] = res_df.groupby(\"topic_id\")[\"pdup_count\"].transform(\"mean\")\n",
    "\n",
    "res_df[\"same_chapter\"] = res_df[\"topic_chapter\"] == res_df[\"content_chapter\"]\n",
    "res_df[\"starts_same\"] = res_df[\"topic_title\"].apply(lambda x: x.split(\" \", 1)[0]) == res_df[\"content_title\"].apply(lambda x: x.split(\" \", 1)[0])"
   ]
  },
  {
   "cell_type": "code",
   "execution_count": 38,
   "id": "99c7da5d",
   "metadata": {},
   "outputs": [],
   "source": [
    "res_df.loc[~res_df[\"content_is_train\"], \"content_max_train_score\"] = None\n",
    "\n",
    "res_df[\"second_degree\"].fillna(False, inplace=True)\n",
    "res_df[\"topic_max_train_score\"] = res_df[\"topic_id\"].map(topic_df_test.set_index(\"id\")[\"max_train_score\"].to_dict())"
   ]
  },
  {
   "cell_type": "code",
   "execution_count": 129,
   "id": "503902fa",
   "metadata": {},
   "outputs": [
    {
     "data": {
      "text/plain": [
       "1    215408\n",
       "3    213441\n",
       "0    205484\n",
       "2    205482\n",
       "Name: fold, dtype: int64"
      ]
     },
     "execution_count": 129,
     "metadata": {},
     "output_type": "execute_result"
    }
   ],
   "source": [
    "m = {\"a\": 10, \"b\": 11, \"c\": 12, \"d\": 13, \"e\": 14, \"f\": 15}\n",
    "\n",
    "res_df[\"fold\"] = res_df[\"topic_id\"].apply(lambda x: int(m.get(x[-1], x[-1])) % 4)\n",
    "res_df[\"fold\"].value_counts()"
   ]
  },
  {
   "cell_type": "code",
   "execution_count": 140,
   "id": "b215c127",
   "metadata": {},
   "outputs": [
    {
     "name": "stdout",
     "output_type": "stream",
     "text": [
      "Fold 0\n"
     ]
    },
    {
     "name": "stderr",
     "output_type": "stream",
     "text": [
      "/home/aerdem/venv/lib/python3.8/site-packages/lightgbm/engine.py:239: UserWarning: 'verbose_eval' argument is deprecated and will be removed in a future release of LightGBM. Pass 'log_evaluation()' callback via 'callbacks' argument instead.\n",
      "  _log_warning(\"'verbose_eval' argument is deprecated and will be removed in a future release of LightGBM. \"\n"
     ]
    },
    {
     "name": "stdout",
     "output_type": "stream",
     "text": [
      "[LightGBM] [Info] Number of positive: 19724, number of negative: 614607\n",
      "[LightGBM] [Warning] Auto-choosing row-wise multi-threading, the overhead of testing was 0.008891 seconds.\n",
      "You can set `force_row_wise=true` to remove the overhead.\n",
      "And if memory is not enough, you can set `force_col_wise=true`.\n",
      "[LightGBM] [Info] Total Bins 2699\n",
      "[LightGBM] [Info] Number of data points in the train set: 634331, number of used features: 25\n",
      "[LightGBM] [Info] [binary:BoostFromScore]: pavg=0.031094 -> initscore=-3.439147\n"
     ]
    },
    {
     "name": "stderr",
     "output_type": "stream",
     "text": [
      "/home/aerdem/venv/lib/python3.8/site-packages/lightgbm/basic.py:1780: UserWarning: Overriding the parameters from Reference Dataset.\n",
      "  _log_warning('Overriding the parameters from Reference Dataset.')\n",
      "/home/aerdem/venv/lib/python3.8/site-packages/lightgbm/basic.py:1513: UserWarning: categorical_column in param dict is overridden.\n",
      "  _log_warning(f'{cat_alias} in param dict is overridden.')\n"
     ]
    },
    {
     "name": "stdout",
     "output_type": "stream",
     "text": [
      "[LightGBM] [Info] Start training from score -3.439147\n",
      "[200]\tvalid_0's auc: 0.986533\n",
      "[400]\tvalid_0's auc: 0.988548\n",
      "[600]\tvalid_0's auc: 0.989623\n",
      "[800]\tvalid_0's auc: 0.99019\n",
      "[1000]\tvalid_0's auc: 0.990455\n",
      "[1200]\tvalid_0's auc: 0.990613\n",
      "[1400]\tvalid_0's auc: 0.990764\n",
      "[1600]\tvalid_0's auc: 0.990838\n",
      "[1800]\tvalid_0's auc: 0.990901\n",
      "[2000]\tvalid_0's auc: 0.990904\n",
      "[2200]\tvalid_0's auc: 0.990936\n",
      "[LightGBM] [Warning] No further splits with positive gain, best gain: -inf\n",
      "[2400]\tvalid_0's auc: 0.990966\n",
      "[2600]\tvalid_0's auc: 0.99096\n",
      "[2800]\tvalid_0's auc: 0.990988\n",
      "[3000]\tvalid_0's auc: 0.990993\n",
      "[3200]\tvalid_0's auc: 0.990995\n",
      "\n",
      "Fold 1\n"
     ]
    },
    {
     "name": "stderr",
     "output_type": "stream",
     "text": [
      "/home/aerdem/venv/lib/python3.8/site-packages/lightgbm/engine.py:239: UserWarning: 'verbose_eval' argument is deprecated and will be removed in a future release of LightGBM. Pass 'log_evaluation()' callback via 'callbacks' argument instead.\n",
      "  _log_warning(\"'verbose_eval' argument is deprecated and will be removed in a future release of LightGBM. \"\n"
     ]
    },
    {
     "name": "stdout",
     "output_type": "stream",
     "text": [
      "[LightGBM] [Info] Number of positive: 19744, number of negative: 604663\n",
      "[LightGBM] [Warning] Auto-choosing row-wise multi-threading, the overhead of testing was 0.009409 seconds.\n",
      "You can set `force_row_wise=true` to remove the overhead.\n",
      "And if memory is not enough, you can set `force_col_wise=true`.\n",
      "[LightGBM] [Info] Total Bins 2705\n",
      "[LightGBM] [Info] Number of data points in the train set: 624407, number of used features: 25\n"
     ]
    },
    {
     "name": "stderr",
     "output_type": "stream",
     "text": [
      "/home/aerdem/venv/lib/python3.8/site-packages/lightgbm/basic.py:1780: UserWarning: Overriding the parameters from Reference Dataset.\n",
      "  _log_warning('Overriding the parameters from Reference Dataset.')\n",
      "/home/aerdem/venv/lib/python3.8/site-packages/lightgbm/basic.py:1513: UserWarning: categorical_column in param dict is overridden.\n",
      "  _log_warning(f'{cat_alias} in param dict is overridden.')\n"
     ]
    },
    {
     "name": "stdout",
     "output_type": "stream",
     "text": [
      "[LightGBM] [Info] [binary:BoostFromScore]: pavg=0.031620 -> initscore=-3.421822\n",
      "[LightGBM] [Info] Start training from score -3.421822\n",
      "[200]\tvalid_0's auc: 0.989165\n",
      "[400]\tvalid_0's auc: 0.990422\n",
      "[LightGBM] [Warning] No further splits with positive gain, best gain: -inf\n",
      "[LightGBM] [Warning] No further splits with positive gain, best gain: -inf\n",
      "[LightGBM] [Warning] No further splits with positive gain, best gain: -inf\n",
      "[600]\tvalid_0's auc: 0.991061\n",
      "[800]\tvalid_0's auc: 0.991436\n",
      "[1000]\tvalid_0's auc: 0.991672\n",
      "[1200]\tvalid_0's auc: 0.991811\n",
      "[1400]\tvalid_0's auc: 0.991903\n",
      "[1600]\tvalid_0's auc: 0.99196\n",
      "[1800]\tvalid_0's auc: 0.991991\n",
      "[2000]\tvalid_0's auc: 0.992012\n",
      "[2200]\tvalid_0's auc: 0.992031\n",
      "[2400]\tvalid_0's auc: 0.992045\n",
      "[2600]\tvalid_0's auc: 0.992054\n",
      "[2800]\tvalid_0's auc: 0.992052\n",
      "[3000]\tvalid_0's auc: 0.992061\n",
      "[3200]\tvalid_0's auc: 0.992072\n",
      "\n",
      "Fold 2\n"
     ]
    },
    {
     "name": "stderr",
     "output_type": "stream",
     "text": [
      "/home/aerdem/venv/lib/python3.8/site-packages/lightgbm/engine.py:239: UserWarning: 'verbose_eval' argument is deprecated and will be removed in a future release of LightGBM. Pass 'log_evaluation()' callback via 'callbacks' argument instead.\n",
      "  _log_warning(\"'verbose_eval' argument is deprecated and will be removed in a future release of LightGBM. \"\n"
     ]
    },
    {
     "name": "stdout",
     "output_type": "stream",
     "text": [
      "[LightGBM] [Info] Number of positive: 19863, number of negative: 614470\n",
      "[LightGBM] [Warning] Auto-choosing row-wise multi-threading, the overhead of testing was 0.011116 seconds.\n",
      "You can set `force_row_wise=true` to remove the overhead.\n",
      "And if memory is not enough, you can set `force_col_wise=true`.\n",
      "[LightGBM] [Info] Total Bins 2701\n",
      "[LightGBM] [Info] Number of data points in the train set: 634333, number of used features: 25\n",
      "[LightGBM] [Info] [binary:BoostFromScore]: pavg=0.031313 -> initscore=-3.431901\n",
      "[LightGBM] [Info] Start training from score -3.431901\n"
     ]
    },
    {
     "name": "stderr",
     "output_type": "stream",
     "text": [
      "/home/aerdem/venv/lib/python3.8/site-packages/lightgbm/basic.py:1780: UserWarning: Overriding the parameters from Reference Dataset.\n",
      "  _log_warning('Overriding the parameters from Reference Dataset.')\n",
      "/home/aerdem/venv/lib/python3.8/site-packages/lightgbm/basic.py:1513: UserWarning: categorical_column in param dict is overridden.\n",
      "  _log_warning(f'{cat_alias} in param dict is overridden.')\n"
     ]
    },
    {
     "name": "stdout",
     "output_type": "stream",
     "text": [
      "[200]\tvalid_0's auc: 0.988494\n",
      "[400]\tvalid_0's auc: 0.989726\n",
      "[600]\tvalid_0's auc: 0.990498\n",
      "[800]\tvalid_0's auc: 0.990946\n",
      "[1000]\tvalid_0's auc: 0.991182\n",
      "[1200]\tvalid_0's auc: 0.99131\n",
      "[1400]\tvalid_0's auc: 0.991407\n",
      "[1600]\tvalid_0's auc: 0.991467\n",
      "[1800]\tvalid_0's auc: 0.99151\n",
      "[2000]\tvalid_0's auc: 0.99154\n",
      "[2200]\tvalid_0's auc: 0.991556\n",
      "[2400]\tvalid_0's auc: 0.991548\n",
      "[2600]\tvalid_0's auc: 0.991558\n",
      "[2800]\tvalid_0's auc: 0.991558\n",
      "[3000]\tvalid_0's auc: 0.99155\n",
      "[3200]\tvalid_0's auc: 0.991547\n",
      "\n",
      "Fold 3\n"
     ]
    },
    {
     "name": "stderr",
     "output_type": "stream",
     "text": [
      "/home/aerdem/venv/lib/python3.8/site-packages/lightgbm/engine.py:239: UserWarning: 'verbose_eval' argument is deprecated and will be removed in a future release of LightGBM. Pass 'log_evaluation()' callback via 'callbacks' argument instead.\n",
      "  _log_warning(\"'verbose_eval' argument is deprecated and will be removed in a future release of LightGBM. \"\n"
     ]
    },
    {
     "name": "stdout",
     "output_type": "stream",
     "text": [
      "[LightGBM] [Info] Number of positive: 19362, number of negative: 607012\n",
      "[LightGBM] [Warning] Auto-choosing row-wise multi-threading, the overhead of testing was 0.008803 seconds.\n",
      "You can set `force_row_wise=true` to remove the overhead.\n",
      "And if memory is not enough, you can set `force_col_wise=true`.\n",
      "[LightGBM] [Info] Total Bins 2697\n",
      "[LightGBM] [Info] Number of data points in the train set: 626374, number of used features: 25\n",
      "[LightGBM] [Info] [binary:BoostFromScore]: pavg=0.030911 -> initscore=-3.445236\n"
     ]
    },
    {
     "name": "stderr",
     "output_type": "stream",
     "text": [
      "/home/aerdem/venv/lib/python3.8/site-packages/lightgbm/basic.py:1780: UserWarning: Overriding the parameters from Reference Dataset.\n",
      "  _log_warning('Overriding the parameters from Reference Dataset.')\n",
      "/home/aerdem/venv/lib/python3.8/site-packages/lightgbm/basic.py:1513: UserWarning: categorical_column in param dict is overridden.\n",
      "  _log_warning(f'{cat_alias} in param dict is overridden.')\n"
     ]
    },
    {
     "name": "stdout",
     "output_type": "stream",
     "text": [
      "[LightGBM] [Info] Start training from score -3.445236\n",
      "[200]\tvalid_0's auc: 0.987907\n",
      "[400]\tvalid_0's auc: 0.989741\n",
      "[600]\tvalid_0's auc: 0.990667\n",
      "[LightGBM] [Warning] No further splits with positive gain, best gain: -inf\n",
      "[LightGBM] [Warning] No further splits with positive gain, best gain: -inf\n",
      "[800]\tvalid_0's auc: 0.991223\n",
      "[1000]\tvalid_0's auc: 0.991508\n",
      "[1200]\tvalid_0's auc: 0.991681\n",
      "[1400]\tvalid_0's auc: 0.9918\n",
      "[LightGBM] [Warning] No further splits with positive gain, best gain: -inf\n",
      "[1600]\tvalid_0's auc: 0.991888\n",
      "[1800]\tvalid_0's auc: 0.991945\n",
      "[2000]\tvalid_0's auc: 0.991977\n",
      "[2200]\tvalid_0's auc: 0.991994\n",
      "[2400]\tvalid_0's auc: 0.992014\n",
      "[2600]\tvalid_0's auc: 0.992029\n",
      "[2800]\tvalid_0's auc: 0.992032\n",
      "[3000]\tvalid_0's auc: 0.992028\n",
      "[3200]\tvalid_0's auc: 0.992041\n",
      "\n"
     ]
    }
   ],
   "source": [
    "from sklearn.model_selection import GroupKFold\n",
    "from sklearn.metrics import roc_auc_score\n",
    "import lightgbm as lgb\n",
    "\n",
    "N_FOLDS = 4\n",
    "gkf = GroupKFold(N_FOLDS)\n",
    "\n",
    "\n",
    "features = [\"match_score\", #\"match_score_max\", \"match_score_min\",\n",
    "            \"vec_dist\", #\"vec_dist_max\", \"vec_dist_min\", \n",
    "            \"len_content_text\",\n",
    "            \"len_topic_title\", \"len_topic_description\", \"len_content_title\", \"len_content_description\",\n",
    "             \"dup_count\", \"total_count\", \"dup_count_mean\",\n",
    "            \"tdup_count\", \"tdup_count_mean\", \"pdup_count\", \"pdup_count_mean\",\n",
    "            \"topic_language\", \"topic_category\", \n",
    "            \"content_kind\", \"topic_level\",\n",
    "            \"same_chapter\", \"starts_same\", \"content_is_train\", \"topic_channel\",\n",
    "            \"content_max_train_score\", \"topic_max_train_score\", \"second_degree\"\n",
    "           ]\n",
    "\n",
    "mc = -(np.array(features) == \"vec_dist\").astype(int)\n",
    "fc = (np.array(features) == \"vec_dist\")*0.5 + 0.5\n",
    "\n",
    "mb = (np.array(features) == \"vec_dist\")*896 + 127\n",
    "\n",
    "lgb_param = {\"objective\": \"binary\",\n",
    "             \"metric\": 'auc',\n",
    "             \"boosting\": \"gbdt\",\n",
    "             \"learning_rate\": 0.01,\n",
    "             \"is_unbalance\": True,\n",
    "            \"min_data_in_leaf\": 1024,\n",
    "            \"num_leaves\": 31,\n",
    "            \"feature_fraction\": 0.8,\n",
    "             \"feature_fraction_bynode\": 0.8,\n",
    "             \"subsample\": 0.5,\n",
    "             \"subsample_freq\": 1,\n",
    "             \"monotone_constraints\": mc,\n",
    "             \"monotone_constraints_method\": \"basic\",\n",
    "             \"feature_contri\": fc,\n",
    "             \"max_bin_by_feature\": mb\n",
    "                    }\n",
    "\n",
    "y_oof = np.zeros(res_df.shape[0])\n",
    "\n",
    "\n",
    "\n",
    "scores = []\n",
    "\n",
    "\n",
    "for f in range(N_FOLDS):\n",
    "    print(\"Fold\", f)\n",
    "    train_df, val_df = res_df[res_df[\"fold\"] != f].reset_index(drop=True), res_df[res_df[\"fold\"] == f].reset_index(drop=True)\n",
    "        \n",
    "    val_ind = np.where(res_df[\"fold\"].values == f)[0]\n",
    "    lgb_train = lgb.Dataset(train_df[features], train_df[\"target\"])\n",
    "    lgb_val = lgb.Dataset(val_df[features], val_df[\"target\"])\n",
    "\n",
    "    model = lgb.train(lgb_param, lgb_train, num_boost_round=3200, #early_stopping_rounds=20, \n",
    "                      valid_sets=[lgb_val],\n",
    "                      verbose_eval=200)\n",
    "    model.save_model(f'models/lgb_{f}.txt')\n",
    "    \n",
    "    y_oof[val_ind] += model.predict(val_df[features])\n",
    "    scores.append(roc_auc_score(val_df[\"target\"], y_oof[val_ind]))\n",
    "    print()"
   ]
  },
  {
   "cell_type": "code",
   "execution_count": 141,
   "id": "bf74fb81",
   "metadata": {},
   "outputs": [
    {
     "data": {
      "text/plain": [
       "0.9916636744674219"
      ]
     },
     "execution_count": 141,
     "metadata": {},
     "output_type": "execute_result"
    }
   ],
   "source": [
    "np.mean(scores)"
   ]
  },
  {
   "cell_type": "code",
   "execution_count": 142,
   "id": "ba11a622",
   "metadata": {},
   "outputs": [
    {
     "data": {
      "text/plain": [
       "<AxesSubplot:title={'center':'Feature importance'}, xlabel='Feature importance', ylabel='Features'>"
      ]
     },
     "execution_count": 142,
     "metadata": {},
     "output_type": "execute_result"
    },
    {
     "data": {
      "image/png": "[encoded data removed]",
      "text/plain": [
       "<Figure size 576x576 with 1 Axes>"
      ]
     },
     "metadata": {
      "needs_background": "light"
     },
     "output_type": "display_data"
    }
   ],
   "source": [
    "lgb.plot_importance(importance_type=\"gain\", booster=model, figsize=(8, 8))"
   ]
  },
  {
   "cell_type": "code",
   "execution_count": 143,
   "id": "fff559cf",
   "metadata": {},
   "outputs": [
    {
     "data": {
      "text/plain": [
       "<AxesSubplot:title={'center':'Feature importance'}, xlabel='Feature importance', ylabel='Features'>"
      ]
     },
     "execution_count": 143,
     "metadata": {},
     "output_type": "execute_result"
    },
    {
     "data": {
      "image/png": "[encoded data removed]",
      "text/plain": [
       "<Figure size 576x576 with 1 Axes>"
      ]
     },
     "metadata": {
      "needs_background": "light"
     },
     "output_type": "display_data"
    }
   ],
   "source": [
    "lgb.plot_importance(booster=model, figsize=(8, 8))"
   ]
  },
  {
   "cell_type": "code",
   "execution_count": 144,
   "id": "9a54c183",
   "metadata": {},
   "outputs": [
    {
     "data": {
      "text/plain": [
       "0.9916594333090503"
      ]
     },
     "execution_count": 144,
     "metadata": {},
     "output_type": "execute_result"
    }
   ],
   "source": [
    "res_df[\"pred\"] = y_oof\n",
    "\n",
    "roc_auc_score(res_df[\"target\"], res_df[\"pred\"])"
   ]
  },
  {
   "cell_type": "code",
   "execution_count": 145,
   "id": "9502b0bf",
   "metadata": {},
   "outputs": [],
   "source": [
    "#res_df.loc[~res_df[\"content_is_train\"], \"pred\"] *= 0.0"
   ]
  },
  {
   "cell_type": "code",
   "execution_count": 146,
   "id": "92947283",
   "metadata": {},
   "outputs": [
    {
     "data": {
      "text/html": [
       "<div>\n",
       "<style scoped>\n",
       "    .dataframe tbody tr th:only-of-type {\n",
       "        vertical-align: middle;\n",
       "    }\n",
       "\n",
       "    .dataframe tbody tr th {\n",
       "        vertical-align: top;\n",
       "    }\n",
       "\n",
       "    .dataframe thead th {\n",
       "        text-align: right;\n",
       "    }\n",
       "</style>\n",
       "<table border=\"1\" class=\"dataframe\">\n",
       "  <thead>\n",
       "    <tr style=\"text-align: right;\">\n",
       "      <th></th>\n",
       "      <th>topic_id</th>\n",
       "      <th>pred</th>\n",
       "    </tr>\n",
       "  </thead>\n",
       "  <tbody>\n",
       "    <tr>\n",
       "      <th>0</th>\n",
       "      <td>t_000d1fb3f2f5</td>\n",
       "      <td>c_b8d730238789 c_1ec97b588bce c_7868f655c31e c...</td>\n",
       "    </tr>\n",
       "    <tr>\n",
       "      <th>1</th>\n",
       "      <td>t_0016d30772f3</td>\n",
       "      <td>c_c25053d6fafd c_61b851222e17 c_061d9f90bb06 c...</td>\n",
       "    </tr>\n",
       "    <tr>\n",
       "      <th>2</th>\n",
       "      <td>t_001bcbb22694</td>\n",
       "      <td>c_d0ea0560acc2</td>\n",
       "    </tr>\n",
       "    <tr>\n",
       "      <th>3</th>\n",
       "      <td>t_0020bde404c1</td>\n",
       "      <td>c_aa8f7f0cbeb3 c_21b4fd178a92 c_2b349c258301 c...</td>\n",
       "    </tr>\n",
       "    <tr>\n",
       "      <th>4</th>\n",
       "      <td>t_00260f878951</td>\n",
       "      <td>c_86f126d7f1f8</td>\n",
       "    </tr>\n",
       "    <tr>\n",
       "      <th>...</th>\n",
       "      <td>...</td>\n",
       "      <td>...</td>\n",
       "    </tr>\n",
       "    <tr>\n",
       "      <th>8243</th>\n",
       "      <td>t_ffb0a70e5e48</td>\n",
       "      <td>c_f3b75faf5480 c_81f88e566297 c_f7c218334f49 c...</td>\n",
       "    </tr>\n",
       "    <tr>\n",
       "      <th>8244</th>\n",
       "      <td>t_ffb1d959761e</td>\n",
       "      <td>c_9b993553de45 c_38fc31dfa9ac</td>\n",
       "    </tr>\n",
       "    <tr>\n",
       "      <th>8245</th>\n",
       "      <td>t_ffba5459a977</td>\n",
       "      <td>c_a46e0ec1377b c_04a421dba8aa c_787a7a2e7217 c...</td>\n",
       "    </tr>\n",
       "    <tr>\n",
       "      <th>8246</th>\n",
       "      <td>t_ffdc013937fc</td>\n",
       "      <td>c_2e959f78384e</td>\n",
       "    </tr>\n",
       "    <tr>\n",
       "      <th>8247</th>\n",
       "      <td>t_ffe8df837f62</td>\n",
       "      <td>c_ea0a2006e2af c_37e4bfb234da c_72f1b23b472e c...</td>\n",
       "    </tr>\n",
       "  </tbody>\n",
       "</table>\n",
       "<p>8248 rows × 2 columns</p>\n",
       "</div>"
      ],
      "text/plain": [
       "            topic_id                                               pred\n",
       "0     t_000d1fb3f2f5  c_b8d730238789 c_1ec97b588bce c_7868f655c31e c...\n",
       "1     t_0016d30772f3  c_c25053d6fafd c_61b851222e17 c_061d9f90bb06 c...\n",
       "2     t_001bcbb22694                                     c_d0ea0560acc2\n",
       "3     t_0020bde404c1  c_aa8f7f0cbeb3 c_21b4fd178a92 c_2b349c258301 c...\n",
       "4     t_00260f878951                                     c_86f126d7f1f8\n",
       "...              ...                                                ...\n",
       "8243  t_ffb0a70e5e48  c_f3b75faf5480 c_81f88e566297 c_f7c218334f49 c...\n",
       "8244  t_ffb1d959761e                      c_9b993553de45 c_38fc31dfa9ac\n",
       "8245  t_ffba5459a977  c_a46e0ec1377b c_04a421dba8aa c_787a7a2e7217 c...\n",
       "8246  t_ffdc013937fc                                     c_2e959f78384e\n",
       "8247  t_ffe8df837f62  c_ea0a2006e2af c_37e4bfb234da c_72f1b23b472e c...\n",
       "\n",
       "[8248 rows x 2 columns]"
      ]
     },
     "execution_count": 146,
     "metadata": {},
     "output_type": "execute_result"
    }
   ],
   "source": [
    "res_df[\"rank\"] = res_df.groupby(\"topic_id\")[\"pred\"].rank(method=\"first\", ascending=False)\n",
    "\n",
    "res_df[\"gap\"] = res_df.groupby(\"topic_id\")[\"pred\"].transform(\"max\") - res_df[\"pred\"]\n",
    "\n",
    "res_df[\"include_new_content\"] = (res_df.groupby(\"content_id\")[\"pred\"].transform(\"max\") == res_df[\"pred\"]) & ~res_df[\"content_is_train\"] & (res_df[\"pred\"] > 0.5)\n",
    "\n",
    "pred_df = res_df[(res_df[\"rank\"] == 1) | ((res_df[\"gap\"] < 0.25) & res_df[\"content_is_train\"]) | res_df[\"include_new_content\"]]\n",
    "\n",
    "pred_df = pred_df.groupby(\"topic_id\")[\"content_id\"].apply(lambda x: \" \".join(list(x)))\n",
    "pred_df = pred_df.reset_index().rename(columns={\"content_id\": 'pred'})\n",
    "\n",
    "pred_df"
   ]
  },
  {
   "cell_type": "code",
   "execution_count": 147,
   "id": "057ab1ff",
   "metadata": {},
   "outputs": [
    {
     "data": {
      "text/plain": [
       "(8248, 3)"
      ]
     },
     "execution_count": 147,
     "metadata": {},
     "output_type": "execute_result"
    }
   ],
   "source": [
    "pred_df = pred_df.merge(pd.read_csv(\"data/correlations.csv\"), on=\"topic_id\")\n",
    "pred_df.shape"
   ]
  },
  {
   "cell_type": "code",
   "execution_count": 148,
   "id": "df6faec5",
   "metadata": {},
   "outputs": [
    {
     "data": {
      "text/plain": [
       "0.750762980522335"
      ]
     },
     "execution_count": 148,
     "metadata": {},
     "output_type": "execute_result"
    }
   ],
   "source": [
    "metric(pred_df)"
   ]
  },
  {
   "cell_type": "code",
   "execution_count": null,
   "id": "e48730f0",
   "metadata": {},
   "outputs": [],
   "source": []
  },
  {
   "cell_type": "code",
   "execution_count": null,
   "id": "c0089d22",
   "metadata": {},
   "outputs": [],
   "source": []
  },
  {
   "cell_type": "code",
   "execution_count": null,
   "id": "98e10585",
   "metadata": {},
   "outputs": [],
   "source": []
  }
 ],
 "metadata": {
  "kernelspec": {
   "display_name": "Python 3 (ipykernel)",
   "language": "python",
   "name": "python3"
  },
  "language_info": {
   "codemirror_mode": {
    "name": "ipython",
    "version": 3
   },
   "file_extension": ".py",
   "mimetype": "text/x-python",
   "name": "python",
   "nbconvert_exporter": "python",
   "pygments_lexer": "ipython3",
   "version": "3.8.10"
  }
 },
 "nbformat": 4,
 "nbformat_minor": 5
}
